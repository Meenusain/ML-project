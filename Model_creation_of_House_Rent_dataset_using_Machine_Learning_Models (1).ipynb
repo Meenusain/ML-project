{
  "cells": [
    {
      "cell_type": "markdown",
      "id": "c5a1b088",
      "metadata": {
        "id": "c5a1b088"
      },
      "source": [
        "# HOUSE RENT PREDICTION OF DIFFERENT CITIES OF INDIA"
      ]
    },
    {
      "cell_type": "markdown",
      "id": "c16f8710",
      "metadata": {
        "id": "c16f8710"
      },
      "source": [
        "### In this notebook, we will be creating a model that will predict the rent of a house/apartment/flat based on various input features present in the dataset. We will also do some exploratory data analysis, data preprocessing, and feature engineering if required."
      ]
    },
    {
      "cell_type": "code",
      "execution_count": null,
      "id": "df5e69dc",
      "metadata": {
        "id": "df5e69dc"
      },
      "outputs": [],
      "source": [
        "# Importing necessary library\n",
        "import pandas as pd\n",
        "import numpy as np \n",
        "import matplotlib.pyplot as plt\n",
        "import seaborn as sns"
      ]
    },
    {
      "cell_type": "code",
      "execution_count": null,
      "id": "80f3399d",
      "metadata": {
        "colab": {
          "base_uri": "https://localhost:8080/",
          "height": 598
        },
        "id": "80f3399d",
        "outputId": "c3fddae2-94da-4c10-d090-fc6821a0db72"
      },
      "outputs": [
        {
          "output_type": "execute_result",
          "data": {
            "text/plain": [
              "    Posted On  BHK   Rent  Size            Floor    Area Type  \\\n",
              "0  2022-05-18    2  10000  1100  Ground out of 2   Super Area   \n",
              "1  2022-05-13    2  20000   800       1 out of 3   Super Area   \n",
              "2  2022-05-16    2  17000  1000       1 out of 3   Super Area   \n",
              "3  2022-07-04    2  10000   800       1 out of 2   Super Area   \n",
              "4  2022-05-09    2   7500   850       1 out of 2  Carpet Area   \n",
              "5  2022-04-29    2   7000   600  Ground out of 1   Super Area   \n",
              "6  2022-06-21    2  10000   700  Ground out of 4   Super Area   \n",
              "7  2022-06-21    1   5000   250       1 out of 2   Super Area   \n",
              "8  2022-06-07    2  26000   800       1 out of 2  Carpet Area   \n",
              "9  2022-06-20    2  10000  1000       1 out of 3  Carpet Area   \n",
              "\n",
              "                     Area Locality     City Furnishing Status  \\\n",
              "0                           Bandel  Kolkata       Unfurnished   \n",
              "1         Phool Bagan, Kankurgachi  Kolkata    Semi-Furnished   \n",
              "2          Salt Lake City Sector 2  Kolkata    Semi-Furnished   \n",
              "3                      Dumdum Park  Kolkata       Unfurnished   \n",
              "4                    South Dum Dum  Kolkata       Unfurnished   \n",
              "5                      Thakurpukur  Kolkata       Unfurnished   \n",
              "6                         Malancha  Kolkata       Unfurnished   \n",
              "7                         Malancha  Kolkata       Unfurnished   \n",
              "8  Palm Avenue Kolkata, Ballygunge  Kolkata       Unfurnished   \n",
              "9                         Natunhat  Kolkata    Semi-Furnished   \n",
              "\n",
              "   Tenant Preferred  Bathroom Point of Contact  \n",
              "0  Bachelors/Family         2    Contact Owner  \n",
              "1  Bachelors/Family         1    Contact Owner  \n",
              "2  Bachelors/Family         1    Contact Owner  \n",
              "3  Bachelors/Family         1    Contact Owner  \n",
              "4         Bachelors         1    Contact Owner  \n",
              "5  Bachelors/Family         2    Contact Owner  \n",
              "6         Bachelors         2    Contact Agent  \n",
              "7         Bachelors         1    Contact Agent  \n",
              "8         Bachelors         2    Contact Agent  \n",
              "9  Bachelors/Family         2    Contact Owner  "
            ],
            "text/html": [
              "\n",
              "  <div id=\"df-bf817181-0899-49ee-8ae0-d1166faf920d\">\n",
              "    <div class=\"colab-df-container\">\n",
              "      <div>\n",
              "<style scoped>\n",
              "    .dataframe tbody tr th:only-of-type {\n",
              "        vertical-align: middle;\n",
              "    }\n",
              "\n",
              "    .dataframe tbody tr th {\n",
              "        vertical-align: top;\n",
              "    }\n",
              "\n",
              "    .dataframe thead th {\n",
              "        text-align: right;\n",
              "    }\n",
              "</style>\n",
              "<table border=\"1\" class=\"dataframe\">\n",
              "  <thead>\n",
              "    <tr style=\"text-align: right;\">\n",
              "      <th></th>\n",
              "      <th>Posted On</th>\n",
              "      <th>BHK</th>\n",
              "      <th>Rent</th>\n",
              "      <th>Size</th>\n",
              "      <th>Floor</th>\n",
              "      <th>Area Type</th>\n",
              "      <th>Area Locality</th>\n",
              "      <th>City</th>\n",
              "      <th>Furnishing Status</th>\n",
              "      <th>Tenant Preferred</th>\n",
              "      <th>Bathroom</th>\n",
              "      <th>Point of Contact</th>\n",
              "    </tr>\n",
              "  </thead>\n",
              "  <tbody>\n",
              "    <tr>\n",
              "      <th>0</th>\n",
              "      <td>2022-05-18</td>\n",
              "      <td>2</td>\n",
              "      <td>10000</td>\n",
              "      <td>1100</td>\n",
              "      <td>Ground out of 2</td>\n",
              "      <td>Super Area</td>\n",
              "      <td>Bandel</td>\n",
              "      <td>Kolkata</td>\n",
              "      <td>Unfurnished</td>\n",
              "      <td>Bachelors/Family</td>\n",
              "      <td>2</td>\n",
              "      <td>Contact Owner</td>\n",
              "    </tr>\n",
              "    <tr>\n",
              "      <th>1</th>\n",
              "      <td>2022-05-13</td>\n",
              "      <td>2</td>\n",
              "      <td>20000</td>\n",
              "      <td>800</td>\n",
              "      <td>1 out of 3</td>\n",
              "      <td>Super Area</td>\n",
              "      <td>Phool Bagan, Kankurgachi</td>\n",
              "      <td>Kolkata</td>\n",
              "      <td>Semi-Furnished</td>\n",
              "      <td>Bachelors/Family</td>\n",
              "      <td>1</td>\n",
              "      <td>Contact Owner</td>\n",
              "    </tr>\n",
              "    <tr>\n",
              "      <th>2</th>\n",
              "      <td>2022-05-16</td>\n",
              "      <td>2</td>\n",
              "      <td>17000</td>\n",
              "      <td>1000</td>\n",
              "      <td>1 out of 3</td>\n",
              "      <td>Super Area</td>\n",
              "      <td>Salt Lake City Sector 2</td>\n",
              "      <td>Kolkata</td>\n",
              "      <td>Semi-Furnished</td>\n",
              "      <td>Bachelors/Family</td>\n",
              "      <td>1</td>\n",
              "      <td>Contact Owner</td>\n",
              "    </tr>\n",
              "    <tr>\n",
              "      <th>3</th>\n",
              "      <td>2022-07-04</td>\n",
              "      <td>2</td>\n",
              "      <td>10000</td>\n",
              "      <td>800</td>\n",
              "      <td>1 out of 2</td>\n",
              "      <td>Super Area</td>\n",
              "      <td>Dumdum Park</td>\n",
              "      <td>Kolkata</td>\n",
              "      <td>Unfurnished</td>\n",
              "      <td>Bachelors/Family</td>\n",
              "      <td>1</td>\n",
              "      <td>Contact Owner</td>\n",
              "    </tr>\n",
              "    <tr>\n",
              "      <th>4</th>\n",
              "      <td>2022-05-09</td>\n",
              "      <td>2</td>\n",
              "      <td>7500</td>\n",
              "      <td>850</td>\n",
              "      <td>1 out of 2</td>\n",
              "      <td>Carpet Area</td>\n",
              "      <td>South Dum Dum</td>\n",
              "      <td>Kolkata</td>\n",
              "      <td>Unfurnished</td>\n",
              "      <td>Bachelors</td>\n",
              "      <td>1</td>\n",
              "      <td>Contact Owner</td>\n",
              "    </tr>\n",
              "    <tr>\n",
              "      <th>5</th>\n",
              "      <td>2022-04-29</td>\n",
              "      <td>2</td>\n",
              "      <td>7000</td>\n",
              "      <td>600</td>\n",
              "      <td>Ground out of 1</td>\n",
              "      <td>Super Area</td>\n",
              "      <td>Thakurpukur</td>\n",
              "      <td>Kolkata</td>\n",
              "      <td>Unfurnished</td>\n",
              "      <td>Bachelors/Family</td>\n",
              "      <td>2</td>\n",
              "      <td>Contact Owner</td>\n",
              "    </tr>\n",
              "    <tr>\n",
              "      <th>6</th>\n",
              "      <td>2022-06-21</td>\n",
              "      <td>2</td>\n",
              "      <td>10000</td>\n",
              "      <td>700</td>\n",
              "      <td>Ground out of 4</td>\n",
              "      <td>Super Area</td>\n",
              "      <td>Malancha</td>\n",
              "      <td>Kolkata</td>\n",
              "      <td>Unfurnished</td>\n",
              "      <td>Bachelors</td>\n",
              "      <td>2</td>\n",
              "      <td>Contact Agent</td>\n",
              "    </tr>\n",
              "    <tr>\n",
              "      <th>7</th>\n",
              "      <td>2022-06-21</td>\n",
              "      <td>1</td>\n",
              "      <td>5000</td>\n",
              "      <td>250</td>\n",
              "      <td>1 out of 2</td>\n",
              "      <td>Super Area</td>\n",
              "      <td>Malancha</td>\n",
              "      <td>Kolkata</td>\n",
              "      <td>Unfurnished</td>\n",
              "      <td>Bachelors</td>\n",
              "      <td>1</td>\n",
              "      <td>Contact Agent</td>\n",
              "    </tr>\n",
              "    <tr>\n",
              "      <th>8</th>\n",
              "      <td>2022-06-07</td>\n",
              "      <td>2</td>\n",
              "      <td>26000</td>\n",
              "      <td>800</td>\n",
              "      <td>1 out of 2</td>\n",
              "      <td>Carpet Area</td>\n",
              "      <td>Palm Avenue Kolkata, Ballygunge</td>\n",
              "      <td>Kolkata</td>\n",
              "      <td>Unfurnished</td>\n",
              "      <td>Bachelors</td>\n",
              "      <td>2</td>\n",
              "      <td>Contact Agent</td>\n",
              "    </tr>\n",
              "    <tr>\n",
              "      <th>9</th>\n",
              "      <td>2022-06-20</td>\n",
              "      <td>2</td>\n",
              "      <td>10000</td>\n",
              "      <td>1000</td>\n",
              "      <td>1 out of 3</td>\n",
              "      <td>Carpet Area</td>\n",
              "      <td>Natunhat</td>\n",
              "      <td>Kolkata</td>\n",
              "      <td>Semi-Furnished</td>\n",
              "      <td>Bachelors/Family</td>\n",
              "      <td>2</td>\n",
              "      <td>Contact Owner</td>\n",
              "    </tr>\n",
              "  </tbody>\n",
              "</table>\n",
              "</div>\n",
              "      <button class=\"colab-df-convert\" onclick=\"convertToInteractive('df-bf817181-0899-49ee-8ae0-d1166faf920d')\"\n",
              "              title=\"Convert this dataframe to an interactive table.\"\n",
              "              style=\"display:none;\">\n",
              "        \n",
              "  <svg xmlns=\"http://www.w3.org/2000/svg\" height=\"24px\"viewBox=\"0 0 24 24\"\n",
              "       width=\"24px\">\n",
              "    <path d=\"M0 0h24v24H0V0z\" fill=\"none\"/>\n",
              "    <path d=\"M18.56 5.44l.94 2.06.94-2.06 2.06-.94-2.06-.94-.94-2.06-.94 2.06-2.06.94zm-11 1L8.5 8.5l.94-2.06 2.06-.94-2.06-.94L8.5 2.5l-.94 2.06-2.06.94zm10 10l.94 2.06.94-2.06 2.06-.94-2.06-.94-.94-2.06-.94 2.06-2.06.94z\"/><path d=\"M17.41 7.96l-1.37-1.37c-.4-.4-.92-.59-1.43-.59-.52 0-1.04.2-1.43.59L10.3 9.45l-7.72 7.72c-.78.78-.78 2.05 0 2.83L4 21.41c.39.39.9.59 1.41.59.51 0 1.02-.2 1.41-.59l7.78-7.78 2.81-2.81c.8-.78.8-2.07 0-2.86zM5.41 20L4 18.59l7.72-7.72 1.47 1.35L5.41 20z\"/>\n",
              "  </svg>\n",
              "      </button>\n",
              "      \n",
              "  <style>\n",
              "    .colab-df-container {\n",
              "      display:flex;\n",
              "      flex-wrap:wrap;\n",
              "      gap: 12px;\n",
              "    }\n",
              "\n",
              "    .colab-df-convert {\n",
              "      background-color: #E8F0FE;\n",
              "      border: none;\n",
              "      border-radius: 50%;\n",
              "      cursor: pointer;\n",
              "      display: none;\n",
              "      fill: #1967D2;\n",
              "      height: 32px;\n",
              "      padding: 0 0 0 0;\n",
              "      width: 32px;\n",
              "    }\n",
              "\n",
              "    .colab-df-convert:hover {\n",
              "      background-color: #E2EBFA;\n",
              "      box-shadow: 0px 1px 2px rgba(60, 64, 67, 0.3), 0px 1px 3px 1px rgba(60, 64, 67, 0.15);\n",
              "      fill: #174EA6;\n",
              "    }\n",
              "\n",
              "    [theme=dark] .colab-df-convert {\n",
              "      background-color: #3B4455;\n",
              "      fill: #D2E3FC;\n",
              "    }\n",
              "\n",
              "    [theme=dark] .colab-df-convert:hover {\n",
              "      background-color: #434B5C;\n",
              "      box-shadow: 0px 1px 3px 1px rgba(0, 0, 0, 0.15);\n",
              "      filter: drop-shadow(0px 1px 2px rgba(0, 0, 0, 0.3));\n",
              "      fill: #FFFFFF;\n",
              "    }\n",
              "  </style>\n",
              "\n",
              "      <script>\n",
              "        const buttonEl =\n",
              "          document.querySelector('#df-bf817181-0899-49ee-8ae0-d1166faf920d button.colab-df-convert');\n",
              "        buttonEl.style.display =\n",
              "          google.colab.kernel.accessAllowed ? 'block' : 'none';\n",
              "\n",
              "        async function convertToInteractive(key) {\n",
              "          const element = document.querySelector('#df-bf817181-0899-49ee-8ae0-d1166faf920d');\n",
              "          const dataTable =\n",
              "            await google.colab.kernel.invokeFunction('convertToInteractive',\n",
              "                                                     [key], {});\n",
              "          if (!dataTable) return;\n",
              "\n",
              "          const docLinkHtml = 'Like what you see? Visit the ' +\n",
              "            '<a target=\"_blank\" href=https://colab.research.google.com/notebooks/data_table.ipynb>data table notebook</a>'\n",
              "            + ' to learn more about interactive tables.';\n",
              "          element.innerHTML = '';\n",
              "          dataTable['output_type'] = 'display_data';\n",
              "          await google.colab.output.renderOutput(dataTable, element);\n",
              "          const docLink = document.createElement('div');\n",
              "          docLink.innerHTML = docLinkHtml;\n",
              "          element.appendChild(docLink);\n",
              "        }\n",
              "      </script>\n",
              "    </div>\n",
              "  </div>\n",
              "  "
            ]
          },
          "metadata": {},
          "execution_count": 2
        }
      ],
      "source": [
        "# Reading the dataset\n",
        "data = pd.read_csv('/content/House_Rent_Dataset.csv')\n",
        "data.head(10)"
      ]
    },
    {
      "cell_type": "code",
      "execution_count": null,
      "id": "8f5e43a1",
      "metadata": {
        "colab": {
          "base_uri": "https://localhost:8080/"
        },
        "id": "8f5e43a1",
        "outputId": "0a4a7c24-ec58-4e00-f2f3-b8be4c56e2e4"
      },
      "outputs": [
        {
          "output_type": "execute_result",
          "data": {
            "text/plain": [
              "(4746, 12)"
            ]
          },
          "metadata": {},
          "execution_count": 3
        }
      ],
      "source": [
        "data.shape"
      ]
    },
    {
      "cell_type": "code",
      "execution_count": null,
      "id": "b3bebe0e",
      "metadata": {
        "colab": {
          "base_uri": "https://localhost:8080/"
        },
        "id": "b3bebe0e",
        "outputId": "50d03f21-c325-4c9e-8e2e-160dad8f42ba"
      },
      "outputs": [
        {
          "output_type": "stream",
          "name": "stdout",
          "text": [
            "<class 'pandas.core.frame.DataFrame'>\n",
            "RangeIndex: 4746 entries, 0 to 4745\n",
            "Data columns (total 12 columns):\n",
            " #   Column             Non-Null Count  Dtype \n",
            "---  ------             --------------  ----- \n",
            " 0   Posted On          4746 non-null   object\n",
            " 1   BHK                4746 non-null   int64 \n",
            " 2   Rent               4746 non-null   int64 \n",
            " 3   Size               4746 non-null   int64 \n",
            " 4   Floor              4746 non-null   object\n",
            " 5   Area Type          4746 non-null   object\n",
            " 6   Area Locality      4746 non-null   object\n",
            " 7   City               4746 non-null   object\n",
            " 8   Furnishing Status  4746 non-null   object\n",
            " 9   Tenant Preferred   4746 non-null   object\n",
            " 10  Bathroom           4746 non-null   int64 \n",
            " 11  Point of Contact   4746 non-null   object\n",
            "dtypes: int64(4), object(8)\n",
            "memory usage: 445.1+ KB\n"
          ]
        }
      ],
      "source": [
        "data.info()"
      ]
    },
    {
      "cell_type": "code",
      "source": [
        "# drop the posted column\n",
        "data.drop('Posted On',axis=1,inplace=True)"
      ],
      "metadata": {
        "id": "n9tzNFGgz1Tn"
      },
      "id": "n9tzNFGgz1Tn",
      "execution_count": null,
      "outputs": []
    },
    {
      "cell_type": "code",
      "source": [
        "#Kernel density estimate use for continous probabilty density curve in one or more dimensions.\n",
        "sns.kdeplot(x='Rent', data=data)"
      ],
      "metadata": {
        "colab": {
          "base_uri": "https://localhost:8080/",
          "height": 308
        },
        "id": "8R3DOfzXz9tu",
        "outputId": "4ab4f0e3-f38e-4afc-bd2a-321c5e2dd5c5"
      },
      "id": "8R3DOfzXz9tu",
      "execution_count": null,
      "outputs": [
        {
          "output_type": "execute_result",
          "data": {
            "text/plain": [
              "<matplotlib.axes._subplots.AxesSubplot at 0x7f18ea1ea640>"
            ]
          },
          "metadata": {},
          "execution_count": 6
        },
        {
          "output_type": "display_data",
          "data": {
            "text/plain": [
              "<Figure size 432x288 with 1 Axes>"
            ],
            "image/png": "[encoded data removed]"
          },
          "metadata": {
            "needs_background": "light"
          }
        }
      ]
    },
    {
      "cell_type": "markdown",
      "id": "c0e7c3d6",
      "metadata": {
        "id": "c0e7c3d6"
      },
      "source": [
        "### Checking null values in dataset"
      ]
    },
    {
      "cell_type": "code",
      "execution_count": null,
      "id": "f5b6391a",
      "metadata": {
        "colab": {
          "base_uri": "https://localhost:8080/"
        },
        "id": "f5b6391a",
        "outputId": "ae544cce-8aae-4700-bd52-3e124323b329"
      },
      "outputs": [
        {
          "output_type": "execute_result",
          "data": {
            "text/plain": [
              "BHK                  0\n",
              "Rent                 0\n",
              "Size                 0\n",
              "Floor                0\n",
              "Area Type            0\n",
              "Area Locality        0\n",
              "City                 0\n",
              "Furnishing Status    0\n",
              "Tenant Preferred     0\n",
              "Bathroom             0\n",
              "Point of Contact     0\n",
              "dtype: int64"
            ]
          },
          "metadata": {},
          "execution_count": 7
        }
      ],
      "source": [
        "data.isnull().sum()"
      ]
    },
    {
      "cell_type": "code",
      "execution_count": null,
      "id": "57cbf153",
      "metadata": {
        "id": "57cbf153"
      },
      "outputs": [],
      "source": [
        "# There is no null value present in the dataset"
      ]
    },
    {
      "cell_type": "markdown",
      "id": "12f31997",
      "metadata": {
        "id": "12f31997"
      },
      "source": [
        "## Exploratory Data Analysis"
      ]
    },
    {
      "cell_type": "code",
      "execution_count": null,
      "id": "afdf8a38",
      "metadata": {
        "colab": {
          "base_uri": "https://localhost:8080/",
          "height": 279
        },
        "id": "afdf8a38",
        "outputId": "a71190e5-e3e1-4b56-fde0-78ae642f94e0"
      },
      "outputs": [
        {
          "output_type": "display_data",
          "data": {
            "text/plain": [
              "<Figure size 432x288 with 1 Axes>"
            ],
            "image/png": "[encoded data removed]"
          },
          "metadata": {
            "needs_background": "light"
          }
        }
      ],
      "source": [
        "sns.boxplot(x='BHK',y='Size',data=data)\n",
        "plt.show()"
      ]
    },
    {
      "cell_type": "code",
      "source": [
        "sns.boxplot(x='BHK',y='Rent',data=data)\n",
        "plt.show()"
      ],
      "metadata": {
        "colab": {
          "base_uri": "https://localhost:8080/",
          "height": 290
        },
        "id": "61-XRVjx-leM",
        "outputId": "0e316b9d-3387-4149-e6da-023f5f2bdd4c"
      },
      "id": "61-XRVjx-leM",
      "execution_count": null,
      "outputs": [
        {
          "output_type": "display_data",
          "data": {
            "text/plain": [
              "<Figure size 432x288 with 1 Axes>"
            ],
            "image/png": "[encoded data removed]"
          },
          "metadata": {
            "needs_background": "light"
          }
        }
      ]
    },
    {
      "cell_type": "code",
      "source": [
        "sns.boxplot(x='BHK',y='Rent',data=data)\n",
        "plt.show()"
      ],
      "metadata": {
        "id": "0TIqqb0sBnHC",
        "colab": {
          "base_uri": "https://localhost:8080/",
          "height": 290
        },
        "outputId": "b8239d17-8f26-415d-f422-ca39aad66444"
      },
      "id": "0TIqqb0sBnHC",
      "execution_count": null,
      "outputs": [
        {
          "output_type": "display_data",
          "data": {
            "text/plain": [
              "<Figure size 432x288 with 1 Axes>"
            ],
            "image/png": "[encoded data removed]"
          },
          "metadata": {
            "needs_background": "light"
          }
        }
      ]
    },
    {
      "cell_type": "code",
      "execution_count": null,
      "id": "1eb4fd77",
      "metadata": {
        "colab": {
          "base_uri": "https://localhost:8080/",
          "height": 585
        },
        "id": "1eb4fd77",
        "outputId": "98438651-0e19-44eb-f5af-6b798f5579be"
      },
      "outputs": [
        {
          "output_type": "display_data",
          "data": {
            "text/plain": [
              "<Figure size 720x576 with 6 Axes>"
            ],
            "image/png": "[encoded data removed]"
          },
          "metadata": {
            "needs_background": "light"
          }
        }
      ],
      "source": [
        "cfig, axs = plt.subplots(nrows=2,ncols=3,figsize=(10,8))\n",
        "sns.histplot(data=data[data['BHK']==1],x='Rent',ax=axs[0,0],kde=True,color='green')\n",
        "axs[0,0].set(xlabel='Rent BHK=1')\n",
        "\n",
        "sns.histplot(data=data[data['BHK']==2],x='Rent',ax=axs[0,1],kde=True,color='blue')\n",
        "axs[0,1].set(xlabel='Rent BHK=2')\n",
        "\n",
        "sns.histplot(data=data[data['BHK']==3],x='Rent',ax=axs[0,2],kde=True,color='orange')\n",
        "axs[0,2].set(xlabel='Rent BHK=3')\n",
        "\n",
        "sns.histplot(data=data[data['BHK']==4],x='Rent',ax=axs[1,0],kde=True,color='red')\n",
        "axs[1,0].set(xlabel='Rent BHK=4')\n",
        "\n",
        "sns.histplot(data=data[data['BHK']==5],x='Rent',ax=axs[1,1],kde=True,color='pink')\n",
        "axs[1,1].set(xlabel='Rent BHK=5')\n",
        "\n",
        "sns.histplot(data=data[data['BHK']==6],x='Rent',ax=axs[1,2],kde=True,color='beige')\n",
        "axs[1,2].set(xlabel='Rent BHK=6')\n",
        "\n",
        "plt.tight_layout()\n",
        "plt.show()"
      ]
    },
    {
      "cell_type": "code",
      "execution_count": null,
      "id": "b63cd1e1",
      "metadata": {
        "colab": {
          "base_uri": "https://localhost:8080/"
        },
        "id": "b63cd1e1",
        "outputId": "b10c5e7c-17f8-4a16-9b7a-eafcc68a1dcd"
      },
      "outputs": [
        {
          "output_type": "execute_result",
          "data": {
            "text/plain": [
              "array(['Kolkata', 'Mumbai', 'Bangalore', 'Delhi', 'Chennai', 'Hyderabad'],\n",
              "      dtype=object)"
            ]
          },
          "metadata": {},
          "execution_count": 13
        }
      ],
      "source": [
        "data['City'].unique()"
      ]
    },
    {
      "cell_type": "code",
      "execution_count": null,
      "id": "f7d4be1b",
      "metadata": {
        "colab": {
          "base_uri": "https://localhost:8080/"
        },
        "id": "f7d4be1b",
        "outputId": "106ba4f8-bef9-4096-8bd4-dea4a3221fdc"
      },
      "outputs": [
        {
          "output_type": "execute_result",
          "data": {
            "text/plain": [
              "City\n",
              "Mumbai       85321.204733\n",
              "Delhi        29461.983471\n",
              "Bangalore    24966.365688\n",
              "Chennai      21614.092031\n",
              "Hyderabad    20555.048387\n",
              "Kolkata      11645.173664\n",
              "Name: Rent, dtype: float64"
            ]
          },
          "metadata": {},
          "execution_count": 14
        }
      ],
      "source": [
        "s = data.groupby('City').mean()['Rent'].sort_values(ascending=False)\n",
        "s"
      ]
    },
    {
      "cell_type": "code",
      "execution_count": null,
      "id": "57dd71d1",
      "metadata": {
        "id": "57dd71d1"
      },
      "outputs": [],
      "source": [
        "# The houses of Mumbai seems to be more expansive and t.he houses of Kolkata seems to be least expansive."
      ]
    },
    {
      "cell_type": "code",
      "execution_count": null,
      "id": "7ab2b431",
      "metadata": {
        "colab": {
          "base_uri": "https://localhost:8080/",
          "height": 297
        },
        "id": "7ab2b431",
        "outputId": "7038b580-6fca-4c51-b5d3-5ebf31e5455c"
      },
      "outputs": [
        {
          "output_type": "execute_result",
          "data": {
            "text/plain": [
              "<matplotlib.axes._subplots.AxesSubplot at 0x7f18e7a620a0>"
            ]
          },
          "metadata": {},
          "execution_count": 16
        },
        {
          "output_type": "display_data",
          "data": {
            "text/plain": [
              "<Figure size 432x288 with 1 Axes>"
            ],
            "image/png": "[encoded data removed]"
          },
          "metadata": {
            "needs_background": "light"
          }
        }
      ],
      "source": [
        "sns.barplot(x='City',y='Rent',data = data)"
      ]
    },
    {
      "cell_type": "code",
      "execution_count": null,
      "id": "ef0d33bf",
      "metadata": {
        "colab": {
          "base_uri": "https://localhost:8080/",
          "height": 279
        },
        "id": "ef0d33bf",
        "outputId": "75a73bf6-0188-474a-ea72-0ecc07157e4a"
      },
      "outputs": [
        {
          "output_type": "display_data",
          "data": {
            "text/plain": [
              "<Figure size 432x288 with 1 Axes>"
            ],
            "image/png": "[encoded data removed]"
          },
          "metadata": {
            "needs_background": "light"
          }
        }
      ],
      "source": [
        "fig, ax=plt.subplots()\n",
        "sns.countplot(x='Area Type',data=data,ax=ax)\n",
        "\n",
        "plt.show()"
      ]
    },
    {
      "cell_type": "code",
      "execution_count": null,
      "id": "4dd9a258",
      "metadata": {
        "colab": {
          "base_uri": "https://localhost:8080/",
          "height": 283
        },
        "id": "4dd9a258",
        "outputId": "fe7d3d87-32b2-4aef-800c-9846c7f40b9a"
      },
      "outputs": [
        {
          "output_type": "display_data",
          "data": {
            "text/plain": [
              "<Figure size 432x288 with 1 Axes>"
            ],
            "image/png": "[encoded data removed]"
          },
          "metadata": {
            "needs_background": "light"
          }
        }
      ],
      "source": [
        "sns.barplot(x='Area Type',y='Rent',data=data)\n",
        "plt.show()"
      ]
    },
    {
      "cell_type": "code",
      "execution_count": null,
      "id": "1d1dccfa",
      "metadata": {
        "id": "1d1dccfa"
      },
      "outputs": [],
      "source": [
        "# Variation of rent of different cities of India according to number of BHK"
      ]
    },
    {
      "cell_type": "code",
      "execution_count": null,
      "id": "5550bc44",
      "metadata": {
        "colab": {
          "base_uri": "https://localhost:8080/",
          "height": 1000
        },
        "id": "5550bc44",
        "outputId": "cef04b95-39e6-4724-9c3a-cbfd093f8b79"
      },
      "outputs": [
        {
          "output_type": "execute_result",
          "data": {
            "text/plain": [
              "                  min      max           mean\n",
              "City      BHK                                \n",
              "Bangalore 1      3500    70000    9368.333333\n",
              "          2      5000    90000   16122.041763\n",
              "          3     12000  3500000   61988.580247\n",
              "          4     14000   380000  113043.478261\n",
              "Chennai   1      3000    21000    8455.926380\n",
              "          2      5000   600000   15701.692149\n",
              "          3      7000   330000   35741.913636\n",
              "          4     20000   250000   96350.000000\n",
              "          5     50000   100000   75000.000000\n",
              "          6     60000   280000  170000.000000\n",
              "Delhi     1      3500    35000   11332.500000\n",
              "          2      2000   150000   18878.342520\n",
              "          3      8000   350000   44141.558442\n",
              "          4     15000   530000  117455.583333\n",
              "          5    190000   190000  190000.000000\n",
              "Hyderabad 1      3000   200000    9753.793103\n",
              "          2      5000   130000   13877.652466\n",
              "          3      1200   130000   29337.650206\n",
              "          4     10000   400000   95730.769231\n",
              "          5     45000   300000  131666.666667\n",
              "          6     20000    80000   45000.000000\n",
              "Kolkata   1      1500    50000    6897.183099\n",
              "          2      2200   180000   10687.847826\n",
              "          3      3200    65000   19666.576087\n",
              "          4     10000    40000   26909.090909\n",
              "          5     22500    25000   23750.000000\n",
              "          6     20000    20000   20000.000000\n",
              "Mumbai    1      4500   100000   29218.843206\n",
              "          2      6500   250000   57768.195187\n",
              "          3     15000   400000  122009.242291\n",
              "          4     45000  1200000  279109.589041\n",
              "          5    300000   650000  442727.272727"
            ],
            "text/html": [
              "\n",
              "  <div id=\"df-2cf5f3a3-2b38-46af-a4c1-c16b60f5c0b0\">\n",
              "    <div class=\"colab-df-container\">\n",
              "      <div>\n",
              "<style scoped>\n",
              "    .dataframe tbody tr th:only-of-type {\n",
              "        vertical-align: middle;\n",
              "    }\n",
              "\n",
              "    .dataframe tbody tr th {\n",
              "        vertical-align: top;\n",
              "    }\n",
              "\n",
              "    .dataframe thead th {\n",
              "        text-align: right;\n",
              "    }\n",
              "</style>\n",
              "<table border=\"1\" class=\"dataframe\">\n",
              "  <thead>\n",
              "    <tr style=\"text-align: right;\">\n",
              "      <th></th>\n",
              "      <th></th>\n",
              "      <th>min</th>\n",
              "      <th>max</th>\n",
              "      <th>mean</th>\n",
              "    </tr>\n",
              "    <tr>\n",
              "      <th>City</th>\n",
              "      <th>BHK</th>\n",
              "      <th></th>\n",
              "      <th></th>\n",
              "      <th></th>\n",
              "    </tr>\n",
              "  </thead>\n",
              "  <tbody>\n",
              "    <tr>\n",
              "      <th rowspan=\"4\" valign=\"top\">Bangalore</th>\n",
              "      <th>1</th>\n",
              "      <td>3500</td>\n",
              "      <td>70000</td>\n",
              "      <td>9368.333333</td>\n",
              "    </tr>\n",
              "    <tr>\n",
              "      <th>2</th>\n",
              "      <td>5000</td>\n",
              "      <td>90000</td>\n",
              "      <td>16122.041763</td>\n",
              "    </tr>\n",
              "    <tr>\n",
              "      <th>3</th>\n",
              "      <td>12000</td>\n",
              "      <td>3500000</td>\n",
              "      <td>61988.580247</td>\n",
              "    </tr>\n",
              "    <tr>\n",
              "      <th>4</th>\n",
              "      <td>14000</td>\n",
              "      <td>380000</td>\n",
              "      <td>113043.478261</td>\n",
              "    </tr>\n",
              "    <tr>\n",
              "      <th rowspan=\"6\" valign=\"top\">Chennai</th>\n",
              "      <th>1</th>\n",
              "      <td>3000</td>\n",
              "      <td>21000</td>\n",
              "      <td>8455.926380</td>\n",
              "    </tr>\n",
              "    <tr>\n",
              "      <th>2</th>\n",
              "      <td>5000</td>\n",
              "      <td>600000</td>\n",
              "      <td>15701.692149</td>\n",
              "    </tr>\n",
              "    <tr>\n",
              "      <th>3</th>\n",
              "      <td>7000</td>\n",
              "      <td>330000</td>\n",
              "      <td>35741.913636</td>\n",
              "    </tr>\n",
              "    <tr>\n",
              "      <th>4</th>\n",
              "      <td>20000</td>\n",
              "      <td>250000</td>\n",
              "      <td>96350.000000</td>\n",
              "    </tr>\n",
              "    <tr>\n",
              "      <th>5</th>\n",
              "      <td>50000</td>\n",
              "      <td>100000</td>\n",
              "      <td>75000.000000</td>\n",
              "    </tr>\n",
              "    <tr>\n",
              "      <th>6</th>\n",
              "      <td>60000</td>\n",
              "      <td>280000</td>\n",
              "      <td>170000.000000</td>\n",
              "    </tr>\n",
              "    <tr>\n",
              "      <th rowspan=\"5\" valign=\"top\">Delhi</th>\n",
              "      <th>1</th>\n",
              "      <td>3500</td>\n",
              "      <td>35000</td>\n",
              "      <td>11332.500000</td>\n",
              "    </tr>\n",
              "    <tr>\n",
              "      <th>2</th>\n",
              "      <td>2000</td>\n",
              "      <td>150000</td>\n",
              "      <td>18878.342520</td>\n",
              "    </tr>\n",
              "    <tr>\n",
              "      <th>3</th>\n",
              "      <td>8000</td>\n",
              "      <td>350000</td>\n",
              "      <td>44141.558442</td>\n",
              "    </tr>\n",
              "    <tr>\n",
              "      <th>4</th>\n",
              "      <td>15000</td>\n",
              "      <td>530000</td>\n",
              "      <td>117455.583333</td>\n",
              "    </tr>\n",
              "    <tr>\n",
              "      <th>5</th>\n",
              "      <td>190000</td>\n",
              "      <td>190000</td>\n",
              "      <td>190000.000000</td>\n",
              "    </tr>\n",
              "    <tr>\n",
              "      <th rowspan=\"6\" valign=\"top\">Hyderabad</th>\n",
              "      <th>1</th>\n",
              "      <td>3000</td>\n",
              "      <td>200000</td>\n",
              "      <td>9753.793103</td>\n",
              "    </tr>\n",
              "    <tr>\n",
              "      <th>2</th>\n",
              "      <td>5000</td>\n",
              "      <td>130000</td>\n",
              "      <td>13877.652466</td>\n",
              "    </tr>\n",
              "    <tr>\n",
              "      <th>3</th>\n",
              "      <td>1200</td>\n",
              "      <td>130000</td>\n",
              "      <td>29337.650206</td>\n",
              "    </tr>\n",
              "    <tr>\n",
              "      <th>4</th>\n",
              "      <td>10000</td>\n",
              "      <td>400000</td>\n",
              "      <td>95730.769231</td>\n",
              "    </tr>\n",
              "    <tr>\n",
              "      <th>5</th>\n",
              "      <td>45000</td>\n",
              "      <td>300000</td>\n",
              "      <td>131666.666667</td>\n",
              "    </tr>\n",
              "    <tr>\n",
              "      <th>6</th>\n",
              "      <td>20000</td>\n",
              "      <td>80000</td>\n",
              "      <td>45000.000000</td>\n",
              "    </tr>\n",
              "    <tr>\n",
              "      <th rowspan=\"6\" valign=\"top\">Kolkata</th>\n",
              "      <th>1</th>\n",
              "      <td>1500</td>\n",
              "      <td>50000</td>\n",
              "      <td>6897.183099</td>\n",
              "    </tr>\n",
              "    <tr>\n",
              "      <th>2</th>\n",
              "      <td>2200</td>\n",
              "      <td>180000</td>\n",
              "      <td>10687.847826</td>\n",
              "    </tr>\n",
              "    <tr>\n",
              "      <th>3</th>\n",
              "      <td>3200</td>\n",
              "      <td>65000</td>\n",
              "      <td>19666.576087</td>\n",
              "    </tr>\n",
              "    <tr>\n",
              "      <th>4</th>\n",
              "      <td>10000</td>\n",
              "      <td>40000</td>\n",
              "      <td>26909.090909</td>\n",
              "    </tr>\n",
              "    <tr>\n",
              "      <th>5</th>\n",
              "      <td>22500</td>\n",
              "      <td>25000</td>\n",
              "      <td>23750.000000</td>\n",
              "    </tr>\n",
              "    <tr>\n",
              "      <th>6</th>\n",
              "      <td>20000</td>\n",
              "      <td>20000</td>\n",
              "      <td>20000.000000</td>\n",
              "    </tr>\n",
              "    <tr>\n",
              "      <th rowspan=\"5\" valign=\"top\">Mumbai</th>\n",
              "      <th>1</th>\n",
              "      <td>4500</td>\n",
              "      <td>100000</td>\n",
              "      <td>29218.843206</td>\n",
              "    </tr>\n",
              "    <tr>\n",
              "      <th>2</th>\n",
              "      <td>6500</td>\n",
              "      <td>250000</td>\n",
              "      <td>57768.195187</td>\n",
              "    </tr>\n",
              "    <tr>\n",
              "      <th>3</th>\n",
              "      <td>15000</td>\n",
              "      <td>400000</td>\n",
              "      <td>122009.242291</td>\n",
              "    </tr>\n",
              "    <tr>\n",
              "      <th>4</th>\n",
              "      <td>45000</td>\n",
              "      <td>1200000</td>\n",
              "      <td>279109.589041</td>\n",
              "    </tr>\n",
              "    <tr>\n",
              "      <th>5</th>\n",
              "      <td>300000</td>\n",
              "      <td>650000</td>\n",
              "      <td>442727.272727</td>\n",
              "    </tr>\n",
              "  </tbody>\n",
              "</table>\n",
              "</div>\n",
              "      <button class=\"colab-df-convert\" onclick=\"convertToInteractive('df-2cf5f3a3-2b38-46af-a4c1-c16b60f5c0b0')\"\n",
              "              title=\"Convert this dataframe to an interactive table.\"\n",
              "              style=\"display:none;\">\n",
              "        \n",
              "  <svg xmlns=\"http://www.w3.org/2000/svg\" height=\"24px\"viewBox=\"0 0 24 24\"\n",
              "       width=\"24px\">\n",
              "    <path d=\"M0 0h24v24H0V0z\" fill=\"none\"/>\n",
              "    <path d=\"M18.56 5.44l.94 2.06.94-2.06 2.06-.94-2.06-.94-.94-2.06-.94 2.06-2.06.94zm-11 1L8.5 8.5l.94-2.06 2.06-.94-2.06-.94L8.5 2.5l-.94 2.06-2.06.94zm10 10l.94 2.06.94-2.06 2.06-.94-2.06-.94-.94-2.06-.94 2.06-2.06.94z\"/><path d=\"M17.41 7.96l-1.37-1.37c-.4-.4-.92-.59-1.43-.59-.52 0-1.04.2-1.43.59L10.3 9.45l-7.72 7.72c-.78.78-.78 2.05 0 2.83L4 21.41c.39.39.9.59 1.41.59.51 0 1.02-.2 1.41-.59l7.78-7.78 2.81-2.81c.8-.78.8-2.07 0-2.86zM5.41 20L4 18.59l7.72-7.72 1.47 1.35L5.41 20z\"/>\n",
              "  </svg>\n",
              "      </button>\n",
              "      \n",
              "  <style>\n",
              "    .colab-df-container {\n",
              "      display:flex;\n",
              "      flex-wrap:wrap;\n",
              "      gap: 12px;\n",
              "    }\n",
              "\n",
              "    .colab-df-convert {\n",
              "      background-color: #E8F0FE;\n",
              "      border: none;\n",
              "      border-radius: 50%;\n",
              "      cursor: pointer;\n",
              "      display: none;\n",
              "      fill: #1967D2;\n",
              "      height: 32px;\n",
              "      padding: 0 0 0 0;\n",
              "      width: 32px;\n",
              "    }\n",
              "\n",
              "    .colab-df-convert:hover {\n",
              "      background-color: #E2EBFA;\n",
              "      box-shadow: 0px 1px 2px rgba(60, 64, 67, 0.3), 0px 1px 3px 1px rgba(60, 64, 67, 0.15);\n",
              "      fill: #174EA6;\n",
              "    }\n",
              "\n",
              "    [theme=dark] .colab-df-convert {\n",
              "      background-color: #3B4455;\n",
              "      fill: #D2E3FC;\n",
              "    }\n",
              "\n",
              "    [theme=dark] .colab-df-convert:hover {\n",
              "      background-color: #434B5C;\n",
              "      box-shadow: 0px 1px 3px 1px rgba(0, 0, 0, 0.15);\n",
              "      filter: drop-shadow(0px 1px 2px rgba(0, 0, 0, 0.3));\n",
              "      fill: #FFFFFF;\n",
              "    }\n",
              "  </style>\n",
              "\n",
              "      <script>\n",
              "        const buttonEl =\n",
              "          document.querySelector('#df-2cf5f3a3-2b38-46af-a4c1-c16b60f5c0b0 button.colab-df-convert');\n",
              "        buttonEl.style.display =\n",
              "          google.colab.kernel.accessAllowed ? 'block' : 'none';\n",
              "\n",
              "        async function convertToInteractive(key) {\n",
              "          const element = document.querySelector('#df-2cf5f3a3-2b38-46af-a4c1-c16b60f5c0b0');\n",
              "          const dataTable =\n",
              "            await google.colab.kernel.invokeFunction('convertToInteractive',\n",
              "                                                     [key], {});\n",
              "          if (!dataTable) return;\n",
              "\n",
              "          const docLinkHtml = 'Like what you see? Visit the ' +\n",
              "            '<a target=\"_blank\" href=https://colab.research.google.com/notebooks/data_table.ipynb>data table notebook</a>'\n",
              "            + ' to learn more about interactive tables.';\n",
              "          element.innerHTML = '';\n",
              "          dataTable['output_type'] = 'display_data';\n",
              "          await google.colab.output.renderOutput(dataTable, element);\n",
              "          const docLink = document.createElement('div');\n",
              "          docLink.innerHTML = docLinkHtml;\n",
              "          element.appendChild(docLink);\n",
              "        }\n",
              "      </script>\n",
              "    </div>\n",
              "  </div>\n",
              "  "
            ]
          },
          "metadata": {},
          "execution_count": 20
        }
      ],
      "source": [
        "m = data.groupby(['City','BHK']).agg(['min','max','mean'])['Rent']\n",
        "m"
      ]
    },
    {
      "cell_type": "code",
      "execution_count": null,
      "id": "47cb25ce",
      "metadata": {
        "colab": {
          "base_uri": "https://localhost:8080/",
          "height": 658
        },
        "id": "47cb25ce",
        "outputId": "663c79f3-ccfa-4e6f-b7d9-6ad0a4041bd2"
      },
      "outputs": [
        {
          "output_type": "execute_result",
          "data": {
            "text/plain": [
              "      BHK   Rent  Size             Floor    Area Type  \\\n",
              "1496    3  70000  3354  Ground out of 16  Carpet Area   \n",
              "1497    2  10500   800        3 out of 4   Super Area   \n",
              "1498    2  13000  1000   Ground out of 4   Super Area   \n",
              "1499    2  17000  1040        4 out of 4   Super Area   \n",
              "1500    3  21000  1403        1 out of 4   Super Area   \n",
              "...   ...    ...   ...               ...          ...   \n",
              "2377    1   8000   500        2 out of 2   Super Area   \n",
              "2378    2  11000  1200   Ground out of 2   Super Area   \n",
              "2379    1   8000   750        1 out of 3   Super Area   \n",
              "2380    1  13000   700        1 out of 5   Super Area   \n",
              "2381    2  30000  1000      12 out of 23  Carpet Area   \n",
              "\n",
              "                             Area Locality       City Furnishing Status  \\\n",
              "1496                        Talagatta Pura  Bangalore         Furnished   \n",
              "1497  Nagappa Reddy layout-Dooravani Nagar  Bangalore    Semi-Furnished   \n",
              "1498          Kattigenahalli, Bellary Road  Bangalore    Semi-Furnished   \n",
              "1499                       C V Raman Nagar  Bangalore         Furnished   \n",
              "1500             Chikkalasandra, Bangalore  Bangalore    Semi-Furnished   \n",
              "...                                    ...        ...               ...   \n",
              "2377                           Frazer Town  Bangalore         Furnished   \n",
              "2378    Kadugondanahalli, Kadugondanahalli  Bangalore       Unfurnished   \n",
              "2379            Prakruthi Township, Hennur  Bangalore       Unfurnished   \n",
              "2380                            GH Society  Bangalore    Semi-Furnished   \n",
              "2381                           Yeshwantpur  Bangalore       Unfurnished   \n",
              "\n",
              "      Tenant Preferred  Bathroom Point of Contact  \n",
              "1496  Bachelors/Family         3    Contact Agent  \n",
              "1497  Bachelors/Family         2    Contact Owner  \n",
              "1498  Bachelors/Family         2    Contact Owner  \n",
              "1499  Bachelors/Family         2    Contact Owner  \n",
              "1500  Bachelors/Family         3    Contact Owner  \n",
              "...                ...       ...              ...  \n",
              "2377  Bachelors/Family         1    Contact Owner  \n",
              "2378  Bachelors/Family         2    Contact Owner  \n",
              "2379  Bachelors/Family         1    Contact Owner  \n",
              "2380  Bachelors/Family         2    Contact Owner  \n",
              "2381         Bachelors         2    Contact Agent  \n",
              "\n",
              "[886 rows x 11 columns]"
            ],
            "text/html": [
              "\n",
              "  <div id=\"df-d72ce93e-31f6-4f41-8545-99609c1464c0\">\n",
              "    <div class=\"colab-df-container\">\n",
              "      <div>\n",
              "<style scoped>\n",
              "    .dataframe tbody tr th:only-of-type {\n",
              "        vertical-align: middle;\n",
              "    }\n",
              "\n",
              "    .dataframe tbody tr th {\n",
              "        vertical-align: top;\n",
              "    }\n",
              "\n",
              "    .dataframe thead th {\n",
              "        text-align: right;\n",
              "    }\n",
              "</style>\n",
              "<table border=\"1\" class=\"dataframe\">\n",
              "  <thead>\n",
              "    <tr style=\"text-align: right;\">\n",
              "      <th></th>\n",
              "      <th>BHK</th>\n",
              "      <th>Rent</th>\n",
              "      <th>Size</th>\n",
              "      <th>Floor</th>\n",
              "      <th>Area Type</th>\n",
              "      <th>Area Locality</th>\n",
              "      <th>City</th>\n",
              "      <th>Furnishing Status</th>\n",
              "      <th>Tenant Preferred</th>\n",
              "      <th>Bathroom</th>\n",
              "      <th>Point of Contact</th>\n",
              "    </tr>\n",
              "  </thead>\n",
              "  <tbody>\n",
              "    <tr>\n",
              "      <th>1496</th>\n",
              "      <td>3</td>\n",
              "      <td>70000</td>\n",
              "      <td>3354</td>\n",
              "      <td>Ground out of 16</td>\n",
              "      <td>Carpet Area</td>\n",
              "      <td>Talagatta Pura</td>\n",
              "      <td>Bangalore</td>\n",
              "      <td>Furnished</td>\n",
              "      <td>Bachelors/Family</td>\n",
              "      <td>3</td>\n",
              "      <td>Contact Agent</td>\n",
              "    </tr>\n",
              "    <tr>\n",
              "      <th>1497</th>\n",
              "      <td>2</td>\n",
              "      <td>10500</td>\n",
              "      <td>800</td>\n",
              "      <td>3 out of 4</td>\n",
              "      <td>Super Area</td>\n",
              "      <td>Nagappa Reddy layout-Dooravani Nagar</td>\n",
              "      <td>Bangalore</td>\n",
              "      <td>Semi-Furnished</td>\n",
              "      <td>Bachelors/Family</td>\n",
              "      <td>2</td>\n",
              "      <td>Contact Owner</td>\n",
              "    </tr>\n",
              "    <tr>\n",
              "      <th>1498</th>\n",
              "      <td>2</td>\n",
              "      <td>13000</td>\n",
              "      <td>1000</td>\n",
              "      <td>Ground out of 4</td>\n",
              "      <td>Super Area</td>\n",
              "      <td>Kattigenahalli, Bellary Road</td>\n",
              "      <td>Bangalore</td>\n",
              "      <td>Semi-Furnished</td>\n",
              "      <td>Bachelors/Family</td>\n",
              "      <td>2</td>\n",
              "      <td>Contact Owner</td>\n",
              "    </tr>\n",
              "    <tr>\n",
              "      <th>1499</th>\n",
              "      <td>2</td>\n",
              "      <td>17000</td>\n",
              "      <td>1040</td>\n",
              "      <td>4 out of 4</td>\n",
              "      <td>Super Area</td>\n",
              "      <td>C V Raman Nagar</td>\n",
              "      <td>Bangalore</td>\n",
              "      <td>Furnished</td>\n",
              "      <td>Bachelors/Family</td>\n",
              "      <td>2</td>\n",
              "      <td>Contact Owner</td>\n",
              "    </tr>\n",
              "    <tr>\n",
              "      <th>1500</th>\n",
              "      <td>3</td>\n",
              "      <td>21000</td>\n",
              "      <td>1403</td>\n",
              "      <td>1 out of 4</td>\n",
              "      <td>Super Area</td>\n",
              "      <td>Chikkalasandra, Bangalore</td>\n",
              "      <td>Bangalore</td>\n",
              "      <td>Semi-Furnished</td>\n",
              "      <td>Bachelors/Family</td>\n",
              "      <td>3</td>\n",
              "      <td>Contact Owner</td>\n",
              "    </tr>\n",
              "    <tr>\n",
              "      <th>...</th>\n",
              "      <td>...</td>\n",
              "      <td>...</td>\n",
              "      <td>...</td>\n",
              "      <td>...</td>\n",
              "      <td>...</td>\n",
              "      <td>...</td>\n",
              "      <td>...</td>\n",
              "      <td>...</td>\n",
              "      <td>...</td>\n",
              "      <td>...</td>\n",
              "      <td>...</td>\n",
              "    </tr>\n",
              "    <tr>\n",
              "      <th>2377</th>\n",
              "      <td>1</td>\n",
              "      <td>8000</td>\n",
              "      <td>500</td>\n",
              "      <td>2 out of 2</td>\n",
              "      <td>Super Area</td>\n",
              "      <td>Frazer Town</td>\n",
              "      <td>Bangalore</td>\n",
              "      <td>Furnished</td>\n",
              "      <td>Bachelors/Family</td>\n",
              "      <td>1</td>\n",
              "      <td>Contact Owner</td>\n",
              "    </tr>\n",
              "    <tr>\n",
              "      <th>2378</th>\n",
              "      <td>2</td>\n",
              "      <td>11000</td>\n",
              "      <td>1200</td>\n",
              "      <td>Ground out of 2</td>\n",
              "      <td>Super Area</td>\n",
              "      <td>Kadugondanahalli, Kadugondanahalli</td>\n",
              "      <td>Bangalore</td>\n",
              "      <td>Unfurnished</td>\n",
              "      <td>Bachelors/Family</td>\n",
              "      <td>2</td>\n",
              "      <td>Contact Owner</td>\n",
              "    </tr>\n",
              "    <tr>\n",
              "      <th>2379</th>\n",
              "      <td>1</td>\n",
              "      <td>8000</td>\n",
              "      <td>750</td>\n",
              "      <td>1 out of 3</td>\n",
              "      <td>Super Area</td>\n",
              "      <td>Prakruthi Township, Hennur</td>\n",
              "      <td>Bangalore</td>\n",
              "      <td>Unfurnished</td>\n",
              "      <td>Bachelors/Family</td>\n",
              "      <td>1</td>\n",
              "      <td>Contact Owner</td>\n",
              "    </tr>\n",
              "    <tr>\n",
              "      <th>2380</th>\n",
              "      <td>1</td>\n",
              "      <td>13000</td>\n",
              "      <td>700</td>\n",
              "      <td>1 out of 5</td>\n",
              "      <td>Super Area</td>\n",
              "      <td>GH Society</td>\n",
              "      <td>Bangalore</td>\n",
              "      <td>Semi-Furnished</td>\n",
              "      <td>Bachelors/Family</td>\n",
              "      <td>2</td>\n",
              "      <td>Contact Owner</td>\n",
              "    </tr>\n",
              "    <tr>\n",
              "      <th>2381</th>\n",
              "      <td>2</td>\n",
              "      <td>30000</td>\n",
              "      <td>1000</td>\n",
              "      <td>12 out of 23</td>\n",
              "      <td>Carpet Area</td>\n",
              "      <td>Yeshwantpur</td>\n",
              "      <td>Bangalore</td>\n",
              "      <td>Unfurnished</td>\n",
              "      <td>Bachelors</td>\n",
              "      <td>2</td>\n",
              "      <td>Contact Agent</td>\n",
              "    </tr>\n",
              "  </tbody>\n",
              "</table>\n",
              "<p>886 rows × 11 columns</p>\n",
              "</div>\n",
              "      <button class=\"colab-df-convert\" onclick=\"convertToInteractive('df-d72ce93e-31f6-4f41-8545-99609c1464c0')\"\n",
              "              title=\"Convert this dataframe to an interactive table.\"\n",
              "              style=\"display:none;\">\n",
              "        \n",
              "  <svg xmlns=\"http://www.w3.org/2000/svg\" height=\"24px\"viewBox=\"0 0 24 24\"\n",
              "       width=\"24px\">\n",
              "    <path d=\"M0 0h24v24H0V0z\" fill=\"none\"/>\n",
              "    <path d=\"M18.56 5.44l.94 2.06.94-2.06 2.06-.94-2.06-.94-.94-2.06-.94 2.06-2.06.94zm-11 1L8.5 8.5l.94-2.06 2.06-.94-2.06-.94L8.5 2.5l-.94 2.06-2.06.94zm10 10l.94 2.06.94-2.06 2.06-.94-2.06-.94-.94-2.06-.94 2.06-2.06.94z\"/><path d=\"M17.41 7.96l-1.37-1.37c-.4-.4-.92-.59-1.43-.59-.52 0-1.04.2-1.43.59L10.3 9.45l-7.72 7.72c-.78.78-.78 2.05 0 2.83L4 21.41c.39.39.9.59 1.41.59.51 0 1.02-.2 1.41-.59l7.78-7.78 2.81-2.81c.8-.78.8-2.07 0-2.86zM5.41 20L4 18.59l7.72-7.72 1.47 1.35L5.41 20z\"/>\n",
              "  </svg>\n",
              "      </button>\n",
              "      \n",
              "  <style>\n",
              "    .colab-df-container {\n",
              "      display:flex;\n",
              "      flex-wrap:wrap;\n",
              "      gap: 12px;\n",
              "    }\n",
              "\n",
              "    .colab-df-convert {\n",
              "      background-color: #E8F0FE;\n",
              "      border: none;\n",
              "      border-radius: 50%;\n",
              "      cursor: pointer;\n",
              "      display: none;\n",
              "      fill: #1967D2;\n",
              "      height: 32px;\n",
              "      padding: 0 0 0 0;\n",
              "      width: 32px;\n",
              "    }\n",
              "\n",
              "    .colab-df-convert:hover {\n",
              "      background-color: #E2EBFA;\n",
              "      box-shadow: 0px 1px 2px rgba(60, 64, 67, 0.3), 0px 1px 3px 1px rgba(60, 64, 67, 0.15);\n",
              "      fill: #174EA6;\n",
              "    }\n",
              "\n",
              "    [theme=dark] .colab-df-convert {\n",
              "      background-color: #3B4455;\n",
              "      fill: #D2E3FC;\n",
              "    }\n",
              "\n",
              "    [theme=dark] .colab-df-convert:hover {\n",
              "      background-color: #434B5C;\n",
              "      box-shadow: 0px 1px 3px 1px rgba(0, 0, 0, 0.15);\n",
              "      filter: drop-shadow(0px 1px 2px rgba(0, 0, 0, 0.3));\n",
              "      fill: #FFFFFF;\n",
              "    }\n",
              "  </style>\n",
              "\n",
              "      <script>\n",
              "        const buttonEl =\n",
              "          document.querySelector('#df-d72ce93e-31f6-4f41-8545-99609c1464c0 button.colab-df-convert');\n",
              "        buttonEl.style.display =\n",
              "          google.colab.kernel.accessAllowed ? 'block' : 'none';\n",
              "\n",
              "        async function convertToInteractive(key) {\n",
              "          const element = document.querySelector('#df-d72ce93e-31f6-4f41-8545-99609c1464c0');\n",
              "          const dataTable =\n",
              "            await google.colab.kernel.invokeFunction('convertToInteractive',\n",
              "                                                     [key], {});\n",
              "          if (!dataTable) return;\n",
              "\n",
              "          const docLinkHtml = 'Like what you see? Visit the ' +\n",
              "            '<a target=\"_blank\" href=https://colab.research.google.com/notebooks/data_table.ipynb>data table notebook</a>'\n",
              "            + ' to learn more about interactive tables.';\n",
              "          element.innerHTML = '';\n",
              "          dataTable['output_type'] = 'display_data';\n",
              "          await google.colab.output.renderOutput(dataTable, element);\n",
              "          const docLink = document.createElement('div');\n",
              "          docLink.innerHTML = docLinkHtml;\n",
              "          element.appendChild(docLink);\n",
              "        }\n",
              "      </script>\n",
              "    </div>\n",
              "  </div>\n",
              "  "
            ]
          },
          "metadata": {},
          "execution_count": 21
        }
      ],
      "source": [
        "# Extracting data for Bangalore city\n",
        "l = data[data['City']=='Bangalore']\n",
        "l"
      ]
    },
    {
      "cell_type": "code",
      "execution_count": null,
      "id": "34c812d4",
      "metadata": {
        "colab": {
          "base_uri": "https://localhost:8080/"
        },
        "id": "34c812d4",
        "outputId": "29382cfb-25dd-4bf3-c2f0-052ed17eeceb"
      },
      "outputs": [
        {
          "output_type": "execute_result",
          "data": {
            "text/plain": [
              "BHK\n",
              "4    113043.478261\n",
              "3     61988.580247\n",
              "2     16122.041763\n",
              "1      9368.333333\n",
              "Name: Rent, dtype: float64"
            ]
          },
          "metadata": {},
          "execution_count": 22
        }
      ],
      "source": [
        "l.groupby('BHK').mean()['Rent'].sort_values(ascending=False)\n"
      ]
    },
    {
      "cell_type": "code",
      "execution_count": null,
      "id": "4e68b2a5",
      "metadata": {
        "id": "4e68b2a5"
      },
      "outputs": [],
      "source": [
        "# As expected Rent of house increases with the number of BHK."
      ]
    },
    {
      "cell_type": "code",
      "execution_count": null,
      "id": "80974a62",
      "metadata": {
        "colab": {
          "base_uri": "https://localhost:8080/",
          "height": 297
        },
        "id": "80974a62",
        "outputId": "c0d066bc-0022-49c2-c6ae-4bbcffec1443"
      },
      "outputs": [
        {
          "output_type": "execute_result",
          "data": {
            "text/plain": [
              "<matplotlib.axes._subplots.AxesSubplot at 0x7f18e71d85e0>"
            ]
          },
          "metadata": {},
          "execution_count": 24
        },
        {
          "output_type": "display_data",
          "data": {
            "text/plain": [
              "<Figure size 432x288 with 1 Axes>"
            ],
            "image/png": "[encoded data removed]"
          },
          "metadata": {
            "needs_background": "light"
          }
        }
      ],
      "source": [
        "sns.barplot(x='BHK',y='Rent',data = data[data['City']=='Bangalore'])"
      ]
    },
    {
      "cell_type": "code",
      "execution_count": null,
      "id": "7f0f5769",
      "metadata": {
        "id": "7f0f5769"
      },
      "outputs": [],
      "source": [
        "# Analysing variation of rent for Chennai city"
      ]
    },
    {
      "cell_type": "code",
      "execution_count": null,
      "id": "4f03ff20",
      "metadata": {
        "colab": {
          "base_uri": "https://localhost:8080/",
          "height": 297
        },
        "id": "4f03ff20",
        "outputId": "383ac933-2108-444f-d30d-72dc4e1deaed"
      },
      "outputs": [
        {
          "output_type": "execute_result",
          "data": {
            "text/plain": [
              "<matplotlib.axes._subplots.AxesSubplot at 0x7f18e47ec970>"
            ]
          },
          "metadata": {},
          "execution_count": 26
        },
        {
          "output_type": "display_data",
          "data": {
            "text/plain": [
              "<Figure size 432x288 with 1 Axes>"
            ],
            "image/png": "[encoded data removed]"
          },
          "metadata": {
            "needs_background": "light"
          }
        }
      ],
      "source": [
        "sns.barplot(x='BHK',y='Rent',data = data[data['City']=='Chennai'])"
      ]
    },
    {
      "cell_type": "code",
      "execution_count": null,
      "id": "4a18f059",
      "metadata": {
        "id": "4a18f059"
      },
      "outputs": [],
      "source": [
        "# Analysing variation of rent for Delhi city"
      ]
    },
    {
      "cell_type": "code",
      "execution_count": null,
      "id": "d911bb88",
      "metadata": {
        "colab": {
          "base_uri": "https://localhost:8080/",
          "height": 297
        },
        "id": "d911bb88",
        "outputId": "03a305e8-d8c9-4bac-ba80-8856923e161b"
      },
      "outputs": [
        {
          "output_type": "execute_result",
          "data": {
            "text/plain": [
              "<matplotlib.axes._subplots.AxesSubplot at 0x7f18e475a640>"
            ]
          },
          "metadata": {},
          "execution_count": 28
        },
        {
          "output_type": "display_data",
          "data": {
            "text/plain": [
              "<Figure size 432x288 with 1 Axes>"
            ],
            "image/png": "[encoded data removed]"
          },
          "metadata": {
            "needs_background": "light"
          }
        }
      ],
      "source": [
        "sns.barplot(x='BHK',y='Rent',data = data[data['City']=='Delhi'])"
      ]
    },
    {
      "cell_type": "code",
      "execution_count": null,
      "id": "8204128a",
      "metadata": {
        "id": "8204128a"
      },
      "outputs": [],
      "source": [
        "# Analysing variation of rent for Hyderabad city"
      ]
    },
    {
      "cell_type": "code",
      "execution_count": null,
      "id": "25b69dcd",
      "metadata": {
        "colab": {
          "base_uri": "https://localhost:8080/",
          "height": 297
        },
        "id": "25b69dcd",
        "outputId": "904f3663-1289-4671-8fb3-1c5cc6856404"
      },
      "outputs": [
        {
          "output_type": "execute_result",
          "data": {
            "text/plain": [
              "<matplotlib.axes._subplots.AxesSubplot at 0x7f18e46d35e0>"
            ]
          },
          "metadata": {},
          "execution_count": 30
        },
        {
          "output_type": "display_data",
          "data": {
            "text/plain": [
              "<Figure size 432x288 with 1 Axes>"
            ],
            "image/png": "[encoded data removed]"
          },
          "metadata": {
            "needs_background": "light"
          }
        }
      ],
      "source": [
        "sns.barplot(x='BHK',y='Rent',data = data[data['City']=='Hyderabad'])"
      ]
    },
    {
      "cell_type": "code",
      "execution_count": null,
      "id": "c7735050",
      "metadata": {
        "id": "c7735050"
      },
      "outputs": [],
      "source": [
        "# Analysing variation of rent for Kolkata city"
      ]
    },
    {
      "cell_type": "code",
      "execution_count": null,
      "id": "b96fa884",
      "metadata": {
        "colab": {
          "base_uri": "https://localhost:8080/",
          "height": 297
        },
        "id": "b96fa884",
        "outputId": "539338af-10d2-4228-bb1f-bc5d5bd06da5"
      },
      "outputs": [
        {
          "output_type": "execute_result",
          "data": {
            "text/plain": [
              "<matplotlib.axes._subplots.AxesSubplot at 0x7f18e46444f0>"
            ]
          },
          "metadata": {},
          "execution_count": 32
        },
        {
          "output_type": "display_data",
          "data": {
            "text/plain": [
              "<Figure size 432x288 with 1 Axes>"
            ],
            "image/png": "[encoded data removed]"
          },
          "metadata": {
            "needs_background": "light"
          }
        }
      ],
      "source": [
        "sns.barplot(x='BHK',y='Rent',data = data[data['City']=='Kolkata'])"
      ]
    },
    {
      "cell_type": "code",
      "execution_count": null,
      "id": "cb3b739d",
      "metadata": {
        "id": "cb3b739d"
      },
      "outputs": [],
      "source": [
        "# Analysing variation of rent for Mumbai city"
      ]
    },
    {
      "cell_type": "code",
      "execution_count": null,
      "id": "95dfafc9",
      "metadata": {
        "id": "95dfafc9",
        "colab": {
          "base_uri": "https://localhost:8080/",
          "height": 297
        },
        "outputId": "e596fe3d-67bd-4d50-f356-cd45aaffa37a"
      },
      "outputs": [
        {
          "output_type": "execute_result",
          "data": {
            "text/plain": [
              "<matplotlib.axes._subplots.AxesSubplot at 0x7f18e4630940>"
            ]
          },
          "metadata": {},
          "execution_count": 34
        },
        {
          "output_type": "display_data",
          "data": {
            "text/plain": [
              "<Figure size 432x288 with 1 Axes>"
            ],
            "image/png": "[encoded data removed]"
          },
          "metadata": {
            "needs_background": "light"
          }
        }
      ],
      "source": [
        "sns.barplot(x='BHK',y='Rent',data = data[data['City']=='Mumbai'])"
      ]
    },
    {
      "cell_type": "code",
      "execution_count": null,
      "id": "14acf127",
      "metadata": {
        "id": "14acf127"
      },
      "outputs": [],
      "source": [
        "# Analysing variation of Area Type for Mumbai city"
      ]
    },
    {
      "cell_type": "code",
      "execution_count": null,
      "id": "0ee19a93",
      "metadata": {
        "colab": {
          "base_uri": "https://localhost:8080/",
          "height": 297
        },
        "id": "0ee19a93",
        "outputId": "09397f18-325d-48a9-ef54-8bcce6e94cb7"
      },
      "outputs": [
        {
          "output_type": "execute_result",
          "data": {
            "text/plain": [
              "<matplotlib.axes._subplots.AxesSubplot at 0x7f18e4596160>"
            ]
          },
          "metadata": {},
          "execution_count": 36
        },
        {
          "output_type": "display_data",
          "data": {
            "text/plain": [
              "<Figure size 432x288 with 1 Axes>"
            ],
            "image/png": "[encoded data removed]"
          },
          "metadata": {
            "needs_background": "light"
          }
        }
      ],
      "source": [
        "sns.barplot(x='Area Type',y='Rent',data = data[data['City']=='Mumbai'])"
      ]
    },
    {
      "cell_type": "code",
      "execution_count": null,
      "id": "30f80da1",
      "metadata": {
        "id": "30f80da1"
      },
      "outputs": [],
      "source": [
        "# Analysing variation of Area Type for Kolkata city"
      ]
    },
    {
      "cell_type": "code",
      "execution_count": null,
      "id": "8fccd010",
      "metadata": {
        "id": "8fccd010",
        "colab": {
          "base_uri": "https://localhost:8080/",
          "height": 297
        },
        "outputId": "2623ec01-ec95-44ca-ca04-b0da7559fca1"
      },
      "outputs": [
        {
          "output_type": "execute_result",
          "data": {
            "text/plain": [
              "<matplotlib.axes._subplots.AxesSubplot at 0x7f18e456ffa0>"
            ]
          },
          "metadata": {},
          "execution_count": 38
        },
        {
          "output_type": "display_data",
          "data": {
            "text/plain": [
              "<Figure size 432x288 with 1 Axes>"
            ],
            "image/png": "[encoded data removed]"
          },
          "metadata": {
            "needs_background": "light"
          }
        }
      ],
      "source": [
        "sns.barplot(x='Area Type',y='Rent',data = data[data['City']=='Kolkata'])"
      ]
    },
    {
      "cell_type": "code",
      "execution_count": null,
      "id": "68565542",
      "metadata": {
        "id": "68565542"
      },
      "outputs": [],
      "source": [
        "# Analysing variation of Area Type for Hyderabad city"
      ]
    },
    {
      "cell_type": "code",
      "execution_count": null,
      "id": "3e9763ef",
      "metadata": {
        "colab": {
          "base_uri": "https://localhost:8080/",
          "height": 297
        },
        "id": "3e9763ef",
        "outputId": "ea0fb12b-add5-4d68-bd22-33d3dc9a7ddf"
      },
      "outputs": [
        {
          "output_type": "execute_result",
          "data": {
            "text/plain": [
              "<matplotlib.axes._subplots.AxesSubplot at 0x7f18e44c75b0>"
            ]
          },
          "metadata": {},
          "execution_count": 40
        },
        {
          "output_type": "display_data",
          "data": {
            "text/plain": [
              "<Figure size 432x288 with 1 Axes>"
            ],
            "image/png": "[encoded data removed]"
          },
          "metadata": {
            "needs_background": "light"
          }
        }
      ],
      "source": [
        "sns.barplot(x='Area Type',y='Rent',data = data[data['City']=='Hyderabad'])"
      ]
    },
    {
      "cell_type": "code",
      "execution_count": null,
      "id": "ae308508",
      "metadata": {
        "id": "ae308508"
      },
      "outputs": [],
      "source": [
        "# Analysing variation of Area Type for Delhi city"
      ]
    },
    {
      "cell_type": "code",
      "execution_count": null,
      "id": "14491558",
      "metadata": {
        "colab": {
          "base_uri": "https://localhost:8080/",
          "height": 297
        },
        "id": "14491558",
        "outputId": "4be121b0-2bc7-473e-f765-04558abdd190"
      },
      "outputs": [
        {
          "output_type": "execute_result",
          "data": {
            "text/plain": [
              "<matplotlib.axes._subplots.AxesSubplot at 0x7f18e449f9a0>"
            ]
          },
          "metadata": {},
          "execution_count": 42
        },
        {
          "output_type": "display_data",
          "data": {
            "text/plain": [
              "<Figure size 432x288 with 1 Axes>"
            ],
            "image/png": "[encoded data removed]"
          },
          "metadata": {
            "needs_background": "light"
          }
        }
      ],
      "source": [
        "sns.barplot(x='Area Type',y='Rent',data = data[data['City']=='Delhi'])"
      ]
    },
    {
      "cell_type": "code",
      "execution_count": null,
      "id": "fc4df84f",
      "metadata": {
        "id": "fc4df84f"
      },
      "outputs": [],
      "source": [
        "# Analysing variation of Area Type for Chennai city"
      ]
    },
    {
      "cell_type": "code",
      "execution_count": null,
      "id": "8510b5aa",
      "metadata": {
        "colab": {
          "base_uri": "https://localhost:8080/",
          "height": 297
        },
        "id": "8510b5aa",
        "outputId": "62fbf25b-2d43-475b-8d37-c04f9675b9ae"
      },
      "outputs": [
        {
          "output_type": "execute_result",
          "data": {
            "text/plain": [
              "<matplotlib.axes._subplots.AxesSubplot at 0x7f18e43f9580>"
            ]
          },
          "metadata": {},
          "execution_count": 44
        },
        {
          "output_type": "display_data",
          "data": {
            "text/plain": [
              "<Figure size 432x288 with 1 Axes>"
            ],
            "image/png": "[encoded data removed]"
          },
          "metadata": {
            "needs_background": "light"
          }
        }
      ],
      "source": [
        "sns.barplot(x='Area Type',y='Rent',data = data[data['City']=='Chennai'])"
      ]
    },
    {
      "cell_type": "code",
      "execution_count": null,
      "id": "3596d9e4",
      "metadata": {
        "id": "3596d9e4"
      },
      "outputs": [],
      "source": [
        "# Analysing variation of Area Type for Bangalore city"
      ]
    },
    {
      "cell_type": "code",
      "execution_count": null,
      "id": "3b1df55e",
      "metadata": {
        "colab": {
          "base_uri": "https://localhost:8080/",
          "height": 297
        },
        "id": "3b1df55e",
        "outputId": "ecd378af-c621-49fd-a5c6-9d442d02fb7d"
      },
      "outputs": [
        {
          "output_type": "execute_result",
          "data": {
            "text/plain": [
              "<matplotlib.axes._subplots.AxesSubplot at 0x7f18e43d2ac0>"
            ]
          },
          "metadata": {},
          "execution_count": 46
        },
        {
          "output_type": "display_data",
          "data": {
            "text/plain": [
              "<Figure size 432x288 with 1 Axes>"
            ],
            "image/png": "[encoded data removed]"
          },
          "metadata": {
            "needs_background": "light"
          }
        }
      ],
      "source": [
        "sns.barplot(x='Area Type',y='Rent',data = data[data['City']=='Bangalore'])"
      ]
    },
    {
      "cell_type": "code",
      "execution_count": null,
      "id": "e10e8d4d",
      "metadata": {
        "id": "e10e8d4d",
        "colab": {
          "base_uri": "https://localhost:8080/",
          "height": 297
        },
        "outputId": "ef7bdaa0-dbc4-49af-8d92-90e3925c05fb"
      },
      "outputs": [
        {
          "output_type": "execute_result",
          "data": {
            "text/plain": [
              "<matplotlib.axes._subplots.AxesSubplot at 0x7f18e4395370>"
            ]
          },
          "metadata": {},
          "execution_count": 47
        },
        {
          "output_type": "display_data",
          "data": {
            "text/plain": [
              "<Figure size 432x288 with 1 Axes>"
            ],
            "image/png": "[encoded data removed]"
          },
          "metadata": {
            "needs_background": "light"
          }
        }
      ],
      "source": [
        "sns.barplot(x='Area Type',y='Rent',data = data)"
      ]
    },
    {
      "cell_type": "code",
      "execution_count": null,
      "id": "86cef84f",
      "metadata": {
        "id": "86cef84f"
      },
      "outputs": [],
      "source": [
        "# The houses with Carpet Area Type is more favoured."
      ]
    },
    {
      "cell_type": "code",
      "execution_count": null,
      "id": "659d9daf",
      "metadata": {
        "id": "659d9daf"
      },
      "outputs": [],
      "source": [
        "# Analysing variation of Tenant Preferred for Mumbai city"
      ]
    },
    {
      "cell_type": "code",
      "execution_count": null,
      "id": "9d696efb",
      "metadata": {
        "id": "9d696efb",
        "colab": {
          "base_uri": "https://localhost:8080/",
          "height": 297
        },
        "outputId": "b564d39f-9541-49db-8413-5cb7406e7e06"
      },
      "outputs": [
        {
          "output_type": "execute_result",
          "data": {
            "text/plain": [
              "<matplotlib.axes._subplots.AxesSubplot at 0x7f18e42f2400>"
            ]
          },
          "metadata": {},
          "execution_count": 50
        },
        {
          "output_type": "display_data",
          "data": {
            "text/plain": [
              "<Figure size 432x288 with 1 Axes>"
            ],
            "image/png": "[encoded data removed]"
          },
          "metadata": {
            "needs_background": "light"
          }
        }
      ],
      "source": [
        "sns.barplot(x='Tenant Preferred',y='Rent',data = data[data['City']=='Mumbai'])"
      ]
    },
    {
      "cell_type": "code",
      "execution_count": null,
      "id": "54653ccd",
      "metadata": {
        "id": "54653ccd"
      },
      "outputs": [],
      "source": [
        "# Analysing variation of Tenant Preferred for Delhi city"
      ]
    },
    {
      "cell_type": "code",
      "execution_count": null,
      "id": "d07356ef",
      "metadata": {
        "id": "d07356ef",
        "colab": {
          "base_uri": "https://localhost:8080/",
          "height": 297
        },
        "outputId": "7b0c476a-e378-4f6e-e912-b8cf39ccaba1"
      },
      "outputs": [
        {
          "output_type": "execute_result",
          "data": {
            "text/plain": [
              "<matplotlib.axes._subplots.AxesSubplot at 0x7f18e4301610>"
            ]
          },
          "metadata": {},
          "execution_count": 52
        },
        {
          "output_type": "display_data",
          "data": {
            "text/plain": [
              "<Figure size 432x288 with 1 Axes>"
            ],
            "image/png": "[encoded data removed]"
          },
          "metadata": {
            "needs_background": "light"
          }
        }
      ],
      "source": [
        "sns.barplot(x='Tenant Preferred',y='Rent',data = data[data['City']=='Delhi'])"
      ]
    },
    {
      "cell_type": "code",
      "execution_count": null,
      "id": "530bacb9",
      "metadata": {
        "id": "530bacb9"
      },
      "outputs": [],
      "source": [
        "# Analysing variation of Tenant Preferred for Hyderabad city"
      ]
    },
    {
      "cell_type": "code",
      "execution_count": null,
      "id": "768d85a3",
      "metadata": {
        "id": "768d85a3",
        "colab": {
          "base_uri": "https://localhost:8080/",
          "height": 297
        },
        "outputId": "2bda602e-e66c-4c2f-d603-18c057afb7ae"
      },
      "outputs": [
        {
          "output_type": "execute_result",
          "data": {
            "text/plain": [
              "<matplotlib.axes._subplots.AxesSubplot at 0x7f18e4231340>"
            ]
          },
          "metadata": {},
          "execution_count": 54
        },
        {
          "output_type": "display_data",
          "data": {
            "text/plain": [
              "<Figure size 432x288 with 1 Axes>"
            ],
            "image/png": "[encoded data removed]"
          },
          "metadata": {
            "needs_background": "light"
          }
        }
      ],
      "source": [
        "sns.barplot(x='Tenant Preferred',y='Rent',data = data[data['City']=='Hyderabad'])"
      ]
    },
    {
      "cell_type": "code",
      "execution_count": null,
      "id": "05e634cd",
      "metadata": {
        "id": "05e634cd"
      },
      "outputs": [],
      "source": [
        "# Analysing variation of Tenant Preferred for Chennai city"
      ]
    },
    {
      "cell_type": "code",
      "execution_count": null,
      "id": "153e1251",
      "metadata": {
        "id": "153e1251",
        "colab": {
          "base_uri": "https://localhost:8080/",
          "height": 297
        },
        "outputId": "61b1a66f-3b9d-49d9-b661-e3aa9821537b"
      },
      "outputs": [
        {
          "output_type": "execute_result",
          "data": {
            "text/plain": [
              "<matplotlib.axes._subplots.AxesSubplot at 0x7f18e420a370>"
            ]
          },
          "metadata": {},
          "execution_count": 56
        },
        {
          "output_type": "display_data",
          "data": {
            "text/plain": [
              "<Figure size 432x288 with 1 Axes>"
            ],
            "image/png": "[encoded data removed]"
          },
          "metadata": {
            "needs_background": "light"
          }
        }
      ],
      "source": [
        "sns.barplot(x='Tenant Preferred',y='Rent',data = data[data['City']=='Chennai'])"
      ]
    },
    {
      "cell_type": "code",
      "execution_count": null,
      "id": "d83d0a0b",
      "metadata": {
        "id": "d83d0a0b"
      },
      "outputs": [],
      "source": [
        "# Analysing variation of Tenant Preferred for Kolkata city"
      ]
    },
    {
      "cell_type": "code",
      "execution_count": null,
      "id": "833bca32",
      "metadata": {
        "id": "833bca32",
        "colab": {
          "base_uri": "https://localhost:8080/",
          "height": 297
        },
        "outputId": "926c4fd1-ea16-4317-beca-68a2a114e58b"
      },
      "outputs": [
        {
          "output_type": "execute_result",
          "data": {
            "text/plain": [
              "<matplotlib.axes._subplots.AxesSubplot at 0x7f18e41e1220>"
            ]
          },
          "metadata": {},
          "execution_count": 58
        },
        {
          "output_type": "display_data",
          "data": {
            "text/plain": [
              "<Figure size 432x288 with 1 Axes>"
            ],
            "image/png": "[encoded data removed]"
          },
          "metadata": {
            "needs_background": "light"
          }
        }
      ],
      "source": [
        "sns.barplot(x='Tenant Preferred',y='Rent',data = data[data['City']=='Kolkata'])"
      ]
    },
    {
      "cell_type": "code",
      "execution_count": null,
      "id": "27e645ed",
      "metadata": {
        "id": "27e645ed",
        "colab": {
          "base_uri": "https://localhost:8080/",
          "height": 299
        },
        "outputId": "4482d421-f63c-4693-f1d0-5fd339e07de0"
      },
      "outputs": [
        {
          "output_type": "execute_result",
          "data": {
            "text/plain": [
              "<matplotlib.axes._subplots.AxesSubplot at 0x7f18e4748430>"
            ]
          },
          "metadata": {},
          "execution_count": 59
        },
        {
          "output_type": "display_data",
          "data": {
            "text/plain": [
              "<Figure size 432x288 with 1 Axes>"
            ],
            "image/png": "[encoded data removed]"
          },
          "metadata": {
            "needs_background": "light"
          }
        }
      ],
      "source": [
        "sns.barplot(x='Tenant Preferred',y='Rent',data = data)"
      ]
    },
    {
      "cell_type": "code",
      "execution_count": null,
      "id": "ee94122c",
      "metadata": {
        "id": "ee94122c"
      },
      "outputs": [],
      "source": [
        "# This shows that Family has to pay more money as rent than Bachelors."
      ]
    },
    {
      "cell_type": "code",
      "execution_count": null,
      "id": "30ec161c",
      "metadata": {
        "colab": {
          "base_uri": "https://localhost:8080/",
          "height": 455
        },
        "id": "30ec161c",
        "outputId": "86f42485-f6cb-46d7-f56c-79b21c56cc50"
      },
      "outputs": [
        {
          "output_type": "execute_result",
          "data": {
            "text/plain": [
              "                                                                               min  \\\n",
              "City      Area Locality                                 Floor           BHK          \n",
              "Bangalore A Narayanapura, Mahadevapura                  5 out of 5      1    15000   \n",
              "                                                        Ground out of 3 2    14000   \n",
              "          Aarna Enclave                                 4 out of 5      2    90000   \n",
              "          Abbiareddy Layout, Kaggadasapura              1 out of 4      2    22500   \n",
              "          Abbigere                                      1 out of 2      1     6000   \n",
              "...                                                                            ...   \n",
              "Mumbai    simla house at nepeasea road, Napean Sea Road 3 out of 6      1    45000   \n",
              "          spring grove uno, Lokhandwala Twp             5 out of 7      1    18000   \n",
              "          sra                                           19 out of 19    1    15000   \n",
              "          sunanda circal                                3 out of 7      1     7500   \n",
              "          vanamali chs ghatla, Ghatla                   4 out of 20     2    52000   \n",
              "\n",
              "                                                                               max  \\\n",
              "City      Area Locality                                 Floor           BHK          \n",
              "Bangalore A Narayanapura, Mahadevapura                  5 out of 5      1    15000   \n",
              "                                                        Ground out of 3 2    14000   \n",
              "          Aarna Enclave                                 4 out of 5      2    90000   \n",
              "          Abbiareddy Layout, Kaggadasapura              1 out of 4      2    22500   \n",
              "          Abbigere                                      1 out of 2      1     6000   \n",
              "...                                                                            ...   \n",
              "Mumbai    simla house at nepeasea road, Napean Sea Road 3 out of 6      1    45000   \n",
              "          spring grove uno, Lokhandwala Twp             5 out of 7      1    18000   \n",
              "          sra                                           19 out of 19    1    15000   \n",
              "          sunanda circal                                3 out of 7      1     7500   \n",
              "          vanamali chs ghatla, Ghatla                   4 out of 20     2    52000   \n",
              "\n",
              "                                                                                mean  \n",
              "City      Area Locality                                 Floor           BHK           \n",
              "Bangalore A Narayanapura, Mahadevapura                  5 out of 5      1    15000.0  \n",
              "                                                        Ground out of 3 2    14000.0  \n",
              "          Aarna Enclave                                 4 out of 5      2    90000.0  \n",
              "          Abbiareddy Layout, Kaggadasapura              1 out of 4      2    22500.0  \n",
              "          Abbigere                                      1 out of 2      1     6000.0  \n",
              "...                                                                              ...  \n",
              "Mumbai    simla house at nepeasea road, Napean Sea Road 3 out of 6      1    45000.0  \n",
              "          spring grove uno, Lokhandwala Twp             5 out of 7      1    18000.0  \n",
              "          sra                                           19 out of 19    1    15000.0  \n",
              "          sunanda circal                                3 out of 7      1     7500.0  \n",
              "          vanamali chs ghatla, Ghatla                   4 out of 20     2    52000.0  \n",
              "\n",
              "[4408 rows x 3 columns]"
            ],
            "text/html": [
              "\n",
              "  <div id=\"df-6ab1f7d3-5fae-46ce-b0b7-6ca1a0c390f6\">\n",
              "    <div class=\"colab-df-container\">\n",
              "      <div>\n",
              "<style scoped>\n",
              "    .dataframe tbody tr th:only-of-type {\n",
              "        vertical-align: middle;\n",
              "    }\n",
              "\n",
              "    .dataframe tbody tr th {\n",
              "        vertical-align: top;\n",
              "    }\n",
              "\n",
              "    .dataframe thead th {\n",
              "        text-align: right;\n",
              "    }\n",
              "</style>\n",
              "<table border=\"1\" class=\"dataframe\">\n",
              "  <thead>\n",
              "    <tr style=\"text-align: right;\">\n",
              "      <th></th>\n",
              "      <th></th>\n",
              "      <th></th>\n",
              "      <th></th>\n",
              "      <th>min</th>\n",
              "      <th>max</th>\n",
              "      <th>mean</th>\n",
              "    </tr>\n",
              "    <tr>\n",
              "      <th>City</th>\n",
              "      <th>Area Locality</th>\n",
              "      <th>Floor</th>\n",
              "      <th>BHK</th>\n",
              "      <th></th>\n",
              "      <th></th>\n",
              "      <th></th>\n",
              "    </tr>\n",
              "  </thead>\n",
              "  <tbody>\n",
              "    <tr>\n",
              "      <th rowspan=\"5\" valign=\"top\">Bangalore</th>\n",
              "      <th rowspan=\"2\" valign=\"top\">A Narayanapura, Mahadevapura</th>\n",
              "      <th>5 out of 5</th>\n",
              "      <th>1</th>\n",
              "      <td>15000</td>\n",
              "      <td>15000</td>\n",
              "      <td>15000.0</td>\n",
              "    </tr>\n",
              "    <tr>\n",
              "      <th>Ground out of 3</th>\n",
              "      <th>2</th>\n",
              "      <td>14000</td>\n",
              "      <td>14000</td>\n",
              "      <td>14000.0</td>\n",
              "    </tr>\n",
              "    <tr>\n",
              "      <th>Aarna Enclave</th>\n",
              "      <th>4 out of 5</th>\n",
              "      <th>2</th>\n",
              "      <td>90000</td>\n",
              "      <td>90000</td>\n",
              "      <td>90000.0</td>\n",
              "    </tr>\n",
              "    <tr>\n",
              "      <th>Abbiareddy Layout, Kaggadasapura</th>\n",
              "      <th>1 out of 4</th>\n",
              "      <th>2</th>\n",
              "      <td>22500</td>\n",
              "      <td>22500</td>\n",
              "      <td>22500.0</td>\n",
              "    </tr>\n",
              "    <tr>\n",
              "      <th>Abbigere</th>\n",
              "      <th>1 out of 2</th>\n",
              "      <th>1</th>\n",
              "      <td>6000</td>\n",
              "      <td>6000</td>\n",
              "      <td>6000.0</td>\n",
              "    </tr>\n",
              "    <tr>\n",
              "      <th>...</th>\n",
              "      <th>...</th>\n",
              "      <th>...</th>\n",
              "      <th>...</th>\n",
              "      <td>...</td>\n",
              "      <td>...</td>\n",
              "      <td>...</td>\n",
              "    </tr>\n",
              "    <tr>\n",
              "      <th rowspan=\"5\" valign=\"top\">Mumbai</th>\n",
              "      <th>simla house at nepeasea road, Napean Sea Road</th>\n",
              "      <th>3 out of 6</th>\n",
              "      <th>1</th>\n",
              "      <td>45000</td>\n",
              "      <td>45000</td>\n",
              "      <td>45000.0</td>\n",
              "    </tr>\n",
              "    <tr>\n",
              "      <th>spring grove uno, Lokhandwala Twp</th>\n",
              "      <th>5 out of 7</th>\n",
              "      <th>1</th>\n",
              "      <td>18000</td>\n",
              "      <td>18000</td>\n",
              "      <td>18000.0</td>\n",
              "    </tr>\n",
              "    <tr>\n",
              "      <th>sra</th>\n",
              "      <th>19 out of 19</th>\n",
              "      <th>1</th>\n",
              "      <td>15000</td>\n",
              "      <td>15000</td>\n",
              "      <td>15000.0</td>\n",
              "    </tr>\n",
              "    <tr>\n",
              "      <th>sunanda circal</th>\n",
              "      <th>3 out of 7</th>\n",
              "      <th>1</th>\n",
              "      <td>7500</td>\n",
              "      <td>7500</td>\n",
              "      <td>7500.0</td>\n",
              "    </tr>\n",
              "    <tr>\n",
              "      <th>vanamali chs ghatla, Ghatla</th>\n",
              "      <th>4 out of 20</th>\n",
              "      <th>2</th>\n",
              "      <td>52000</td>\n",
              "      <td>52000</td>\n",
              "      <td>52000.0</td>\n",
              "    </tr>\n",
              "  </tbody>\n",
              "</table>\n",
              "<p>4408 rows × 3 columns</p>\n",
              "</div>\n",
              "      <button class=\"colab-df-convert\" onclick=\"convertToInteractive('df-6ab1f7d3-5fae-46ce-b0b7-6ca1a0c390f6')\"\n",
              "              title=\"Convert this dataframe to an interactive table.\"\n",
              "              style=\"display:none;\">\n",
              "        \n",
              "  <svg xmlns=\"http://www.w3.org/2000/svg\" height=\"24px\"viewBox=\"0 0 24 24\"\n",
              "       width=\"24px\">\n",
              "    <path d=\"M0 0h24v24H0V0z\" fill=\"none\"/>\n",
              "    <path d=\"M18.56 5.44l.94 2.06.94-2.06 2.06-.94-2.06-.94-.94-2.06-.94 2.06-2.06.94zm-11 1L8.5 8.5l.94-2.06 2.06-.94-2.06-.94L8.5 2.5l-.94 2.06-2.06.94zm10 10l.94 2.06.94-2.06 2.06-.94-2.06-.94-.94-2.06-.94 2.06-2.06.94z\"/><path d=\"M17.41 7.96l-1.37-1.37c-.4-.4-.92-.59-1.43-.59-.52 0-1.04.2-1.43.59L10.3 9.45l-7.72 7.72c-.78.78-.78 2.05 0 2.83L4 21.41c.39.39.9.59 1.41.59.51 0 1.02-.2 1.41-.59l7.78-7.78 2.81-2.81c.8-.78.8-2.07 0-2.86zM5.41 20L4 18.59l7.72-7.72 1.47 1.35L5.41 20z\"/>\n",
              "  </svg>\n",
              "      </button>\n",
              "      \n",
              "  <style>\n",
              "    .colab-df-container {\n",
              "      display:flex;\n",
              "      flex-wrap:wrap;\n",
              "      gap: 12px;\n",
              "    }\n",
              "\n",
              "    .colab-df-convert {\n",
              "      background-color: #E8F0FE;\n",
              "      border: none;\n",
              "      border-radius: 50%;\n",
              "      cursor: pointer;\n",
              "      display: none;\n",
              "      fill: #1967D2;\n",
              "      height: 32px;\n",
              "      padding: 0 0 0 0;\n",
              "      width: 32px;\n",
              "    }\n",
              "\n",
              "    .colab-df-convert:hover {\n",
              "      background-color: #E2EBFA;\n",
              "      box-shadow: 0px 1px 2px rgba(60, 64, 67, 0.3), 0px 1px 3px 1px rgba(60, 64, 67, 0.15);\n",
              "      fill: #174EA6;\n",
              "    }\n",
              "\n",
              "    [theme=dark] .colab-df-convert {\n",
              "      background-color: #3B4455;\n",
              "      fill: #D2E3FC;\n",
              "    }\n",
              "\n",
              "    [theme=dark] .colab-df-convert:hover {\n",
              "      background-color: #434B5C;\n",
              "      box-shadow: 0px 1px 3px 1px rgba(0, 0, 0, 0.15);\n",
              "      filter: drop-shadow(0px 1px 2px rgba(0, 0, 0, 0.3));\n",
              "      fill: #FFFFFF;\n",
              "    }\n",
              "  </style>\n",
              "\n",
              "      <script>\n",
              "        const buttonEl =\n",
              "          document.querySelector('#df-6ab1f7d3-5fae-46ce-b0b7-6ca1a0c390f6 button.colab-df-convert');\n",
              "        buttonEl.style.display =\n",
              "          google.colab.kernel.accessAllowed ? 'block' : 'none';\n",
              "\n",
              "        async function convertToInteractive(key) {\n",
              "          const element = document.querySelector('#df-6ab1f7d3-5fae-46ce-b0b7-6ca1a0c390f6');\n",
              "          const dataTable =\n",
              "            await google.colab.kernel.invokeFunction('convertToInteractive',\n",
              "                                                     [key], {});\n",
              "          if (!dataTable) return;\n",
              "\n",
              "          const docLinkHtml = 'Like what you see? Visit the ' +\n",
              "            '<a target=\"_blank\" href=https://colab.research.google.com/notebooks/data_table.ipynb>data table notebook</a>'\n",
              "            + ' to learn more about interactive tables.';\n",
              "          element.innerHTML = '';\n",
              "          dataTable['output_type'] = 'display_data';\n",
              "          await google.colab.output.renderOutput(dataTable, element);\n",
              "          const docLink = document.createElement('div');\n",
              "          docLink.innerHTML = docLinkHtml;\n",
              "          element.appendChild(docLink);\n",
              "        }\n",
              "      </script>\n",
              "    </div>\n",
              "  </div>\n",
              "  "
            ]
          },
          "metadata": {},
          "execution_count": 61
        }
      ],
      "source": [
        "data.groupby(['City','Area Locality','Floor','BHK']).agg(['min','max','mean'])['Rent']"
      ]
    },
    {
      "cell_type": "code",
      "execution_count": null,
      "id": "5f98f20b",
      "metadata": {
        "colab": {
          "base_uri": "https://localhost:8080/",
          "height": 455
        },
        "id": "5f98f20b",
        "outputId": "704d1e6a-42ee-4cc7-c46c-8cf7be27ce7f"
      },
      "outputs": [
        {
          "output_type": "execute_result",
          "data": {
            "text/plain": [
              "                                                           min    max  \\\n",
              "City      Area Locality                                                 \n",
              "Bangalore A Narayanapura, Mahadevapura                   14000  15000   \n",
              "          Aarna Enclave                                  90000  90000   \n",
              "          Abbiareddy Layout, Kaggadasapura               22500  22500   \n",
              "          Abbigere                                        6000  12000   \n",
              "          Aditya Nagar-Vidyaranyapura, Vidyaranyapura    10000  10000   \n",
              "...                                                        ...    ...   \n",
              "Mumbai    simla house at nepeasea road, Napean Sea Road  45000  45000   \n",
              "          spring grove uno, Lokhandwala Twp              18000  18000   \n",
              "          sra                                            15000  15000   \n",
              "          sunanda circal                                  7500   7500   \n",
              "          vanamali chs ghatla, Ghatla                    52000  52000   \n",
              "\n",
              "                                                                 mean  \n",
              "City      Area Locality                                                \n",
              "Bangalore A Narayanapura, Mahadevapura                   14500.000000  \n",
              "          Aarna Enclave                                  90000.000000  \n",
              "          Abbiareddy Layout, Kaggadasapura               22500.000000  \n",
              "          Abbigere                                        9333.333333  \n",
              "          Aditya Nagar-Vidyaranyapura, Vidyaranyapura    10000.000000  \n",
              "...                                                               ...  \n",
              "Mumbai    simla house at nepeasea road, Napean Sea Road  45000.000000  \n",
              "          spring grove uno, Lokhandwala Twp              18000.000000  \n",
              "          sra                                            15000.000000  \n",
              "          sunanda circal                                  7500.000000  \n",
              "          vanamali chs ghatla, Ghatla                    52000.000000  \n",
              "\n",
              "[2240 rows x 3 columns]"
            ],
            "text/html": [
              "\n",
              "  <div id=\"df-dcde754d-8dc1-4f07-9c05-5fd115a3b777\">\n",
              "    <div class=\"colab-df-container\">\n",
              "      <div>\n",
              "<style scoped>\n",
              "    .dataframe tbody tr th:only-of-type {\n",
              "        vertical-align: middle;\n",
              "    }\n",
              "\n",
              "    .dataframe tbody tr th {\n",
              "        vertical-align: top;\n",
              "    }\n",
              "\n",
              "    .dataframe thead th {\n",
              "        text-align: right;\n",
              "    }\n",
              "</style>\n",
              "<table border=\"1\" class=\"dataframe\">\n",
              "  <thead>\n",
              "    <tr style=\"text-align: right;\">\n",
              "      <th></th>\n",
              "      <th></th>\n",
              "      <th>min</th>\n",
              "      <th>max</th>\n",
              "      <th>mean</th>\n",
              "    </tr>\n",
              "    <tr>\n",
              "      <th>City</th>\n",
              "      <th>Area Locality</th>\n",
              "      <th></th>\n",
              "      <th></th>\n",
              "      <th></th>\n",
              "    </tr>\n",
              "  </thead>\n",
              "  <tbody>\n",
              "    <tr>\n",
              "      <th rowspan=\"5\" valign=\"top\">Bangalore</th>\n",
              "      <th>A Narayanapura, Mahadevapura</th>\n",
              "      <td>14000</td>\n",
              "      <td>15000</td>\n",
              "      <td>14500.000000</td>\n",
              "    </tr>\n",
              "    <tr>\n",
              "      <th>Aarna Enclave</th>\n",
              "      <td>90000</td>\n",
              "      <td>90000</td>\n",
              "      <td>90000.000000</td>\n",
              "    </tr>\n",
              "    <tr>\n",
              "      <th>Abbiareddy Layout, Kaggadasapura</th>\n",
              "      <td>22500</td>\n",
              "      <td>22500</td>\n",
              "      <td>22500.000000</td>\n",
              "    </tr>\n",
              "    <tr>\n",
              "      <th>Abbigere</th>\n",
              "      <td>6000</td>\n",
              "      <td>12000</td>\n",
              "      <td>9333.333333</td>\n",
              "    </tr>\n",
              "    <tr>\n",
              "      <th>Aditya Nagar-Vidyaranyapura, Vidyaranyapura</th>\n",
              "      <td>10000</td>\n",
              "      <td>10000</td>\n",
              "      <td>10000.000000</td>\n",
              "    </tr>\n",
              "    <tr>\n",
              "      <th>...</th>\n",
              "      <th>...</th>\n",
              "      <td>...</td>\n",
              "      <td>...</td>\n",
              "      <td>...</td>\n",
              "    </tr>\n",
              "    <tr>\n",
              "      <th rowspan=\"5\" valign=\"top\">Mumbai</th>\n",
              "      <th>simla house at nepeasea road, Napean Sea Road</th>\n",
              "      <td>45000</td>\n",
              "      <td>45000</td>\n",
              "      <td>45000.000000</td>\n",
              "    </tr>\n",
              "    <tr>\n",
              "      <th>spring grove uno, Lokhandwala Twp</th>\n",
              "      <td>18000</td>\n",
              "      <td>18000</td>\n",
              "      <td>18000.000000</td>\n",
              "    </tr>\n",
              "    <tr>\n",
              "      <th>sra</th>\n",
              "      <td>15000</td>\n",
              "      <td>15000</td>\n",
              "      <td>15000.000000</td>\n",
              "    </tr>\n",
              "    <tr>\n",
              "      <th>sunanda circal</th>\n",
              "      <td>7500</td>\n",
              "      <td>7500</td>\n",
              "      <td>7500.000000</td>\n",
              "    </tr>\n",
              "    <tr>\n",
              "      <th>vanamali chs ghatla, Ghatla</th>\n",
              "      <td>52000</td>\n",
              "      <td>52000</td>\n",
              "      <td>52000.000000</td>\n",
              "    </tr>\n",
              "  </tbody>\n",
              "</table>\n",
              "<p>2240 rows × 3 columns</p>\n",
              "</div>\n",
              "      <button class=\"colab-df-convert\" onclick=\"convertToInteractive('df-dcde754d-8dc1-4f07-9c05-5fd115a3b777')\"\n",
              "              title=\"Convert this dataframe to an interactive table.\"\n",
              "              style=\"display:none;\">\n",
              "        \n",
              "  <svg xmlns=\"http://www.w3.org/2000/svg\" height=\"24px\"viewBox=\"0 0 24 24\"\n",
              "       width=\"24px\">\n",
              "    <path d=\"M0 0h24v24H0V0z\" fill=\"none\"/>\n",
              "    <path d=\"M18.56 5.44l.94 2.06.94-2.06 2.06-.94-2.06-.94-.94-2.06-.94 2.06-2.06.94zm-11 1L8.5 8.5l.94-2.06 2.06-.94-2.06-.94L8.5 2.5l-.94 2.06-2.06.94zm10 10l.94 2.06.94-2.06 2.06-.94-2.06-.94-.94-2.06-.94 2.06-2.06.94z\"/><path d=\"M17.41 7.96l-1.37-1.37c-.4-.4-.92-.59-1.43-.59-.52 0-1.04.2-1.43.59L10.3 9.45l-7.72 7.72c-.78.78-.78 2.05 0 2.83L4 21.41c.39.39.9.59 1.41.59.51 0 1.02-.2 1.41-.59l7.78-7.78 2.81-2.81c.8-.78.8-2.07 0-2.86zM5.41 20L4 18.59l7.72-7.72 1.47 1.35L5.41 20z\"/>\n",
              "  </svg>\n",
              "      </button>\n",
              "      \n",
              "  <style>\n",
              "    .colab-df-container {\n",
              "      display:flex;\n",
              "      flex-wrap:wrap;\n",
              "      gap: 12px;\n",
              "    }\n",
              "\n",
              "    .colab-df-convert {\n",
              "      background-color: #E8F0FE;\n",
              "      border: none;\n",
              "      border-radius: 50%;\n",
              "      cursor: pointer;\n",
              "      display: none;\n",
              "      fill: #1967D2;\n",
              "      height: 32px;\n",
              "      padding: 0 0 0 0;\n",
              "      width: 32px;\n",
              "    }\n",
              "\n",
              "    .colab-df-convert:hover {\n",
              "      background-color: #E2EBFA;\n",
              "      box-shadow: 0px 1px 2px rgba(60, 64, 67, 0.3), 0px 1px 3px 1px rgba(60, 64, 67, 0.15);\n",
              "      fill: #174EA6;\n",
              "    }\n",
              "\n",
              "    [theme=dark] .colab-df-convert {\n",
              "      background-color: #3B4455;\n",
              "      fill: #D2E3FC;\n",
              "    }\n",
              "\n",
              "    [theme=dark] .colab-df-convert:hover {\n",
              "      background-color: #434B5C;\n",
              "      box-shadow: 0px 1px 3px 1px rgba(0, 0, 0, 0.15);\n",
              "      filter: drop-shadow(0px 1px 2px rgba(0, 0, 0, 0.3));\n",
              "      fill: #FFFFFF;\n",
              "    }\n",
              "  </style>\n",
              "\n",
              "      <script>\n",
              "        const buttonEl =\n",
              "          document.querySelector('#df-dcde754d-8dc1-4f07-9c05-5fd115a3b777 button.colab-df-convert');\n",
              "        buttonEl.style.display =\n",
              "          google.colab.kernel.accessAllowed ? 'block' : 'none';\n",
              "\n",
              "        async function convertToInteractive(key) {\n",
              "          const element = document.querySelector('#df-dcde754d-8dc1-4f07-9c05-5fd115a3b777');\n",
              "          const dataTable =\n",
              "            await google.colab.kernel.invokeFunction('convertToInteractive',\n",
              "                                                     [key], {});\n",
              "          if (!dataTable) return;\n",
              "\n",
              "          const docLinkHtml = 'Like what you see? Visit the ' +\n",
              "            '<a target=\"_blank\" href=https://colab.research.google.com/notebooks/data_table.ipynb>data table notebook</a>'\n",
              "            + ' to learn more about interactive tables.';\n",
              "          element.innerHTML = '';\n",
              "          dataTable['output_type'] = 'display_data';\n",
              "          await google.colab.output.renderOutput(dataTable, element);\n",
              "          const docLink = document.createElement('div');\n",
              "          docLink.innerHTML = docLinkHtml;\n",
              "          element.appendChild(docLink);\n",
              "        }\n",
              "      </script>\n",
              "    </div>\n",
              "  </div>\n",
              "  "
            ]
          },
          "metadata": {},
          "execution_count": 62
        }
      ],
      "source": [
        "data.groupby(['City','Area Locality']).agg(['min','max','mean'])['Rent']"
      ]
    },
    {
      "cell_type": "markdown",
      "id": "b12fab6b",
      "metadata": {
        "id": "b12fab6b"
      },
      "source": [
        "## Data Preprocessing"
      ]
    },
    {
      "cell_type": "code",
      "execution_count": null,
      "id": "af3b4b71",
      "metadata": {
        "colab": {
          "base_uri": "https://localhost:8080/",
          "height": 319
        },
        "id": "af3b4b71",
        "outputId": "edfbee11-479d-45bb-c017-7d218e31a6ba"
      },
      "outputs": [
        {
          "output_type": "execute_result",
          "data": {
            "text/plain": [
              "   BHK      Rent      Size            Floor    Area Type  \\\n",
              "0    2  0.002515  0.136421  Ground out of 2   Super Area   \n",
              "1    2  0.005373  0.098874       1 out of 3   Super Area   \n",
              "2    2  0.004516  0.123905       1 out of 3   Super Area   \n",
              "3    2  0.002515  0.098874       1 out of 2   Super Area   \n",
              "4    2  0.001801  0.105131       1 out of 2  Carpet Area   \n",
              "\n",
              "              Area Locality     City Furnishing Status  Tenant Preferred  \\\n",
              "0                    Bandel  Kolkata       Unfurnished  Bachelors/Family   \n",
              "1  Phool Bagan, Kankurgachi  Kolkata    Semi-Furnished  Bachelors/Family   \n",
              "2   Salt Lake City Sector 2  Kolkata    Semi-Furnished  Bachelors/Family   \n",
              "3               Dumdum Park  Kolkata       Unfurnished  Bachelors/Family   \n",
              "4             South Dum Dum  Kolkata       Unfurnished         Bachelors   \n",
              "\n",
              "   Bathroom Point of Contact  \n",
              "0         2    Contact Owner  \n",
              "1         1    Contact Owner  \n",
              "2         1    Contact Owner  \n",
              "3         1    Contact Owner  \n",
              "4         1    Contact Owner  "
            ],
            "text/html": [
              "\n",
              "  <div id=\"df-e6e7daf4-ee12-4a4c-af5a-9d54db7f555a\">\n",
              "    <div class=\"colab-df-container\">\n",
              "      <div>\n",
              "<style scoped>\n",
              "    .dataframe tbody tr th:only-of-type {\n",
              "        vertical-align: middle;\n",
              "    }\n",
              "\n",
              "    .dataframe tbody tr th {\n",
              "        vertical-align: top;\n",
              "    }\n",
              "\n",
              "    .dataframe thead th {\n",
              "        text-align: right;\n",
              "    }\n",
              "</style>\n",
              "<table border=\"1\" class=\"dataframe\">\n",
              "  <thead>\n",
              "    <tr style=\"text-align: right;\">\n",
              "      <th></th>\n",
              "      <th>BHK</th>\n",
              "      <th>Rent</th>\n",
              "      <th>Size</th>\n",
              "      <th>Floor</th>\n",
              "      <th>Area Type</th>\n",
              "      <th>Area Locality</th>\n",
              "      <th>City</th>\n",
              "      <th>Furnishing Status</th>\n",
              "      <th>Tenant Preferred</th>\n",
              "      <th>Bathroom</th>\n",
              "      <th>Point of Contact</th>\n",
              "    </tr>\n",
              "  </thead>\n",
              "  <tbody>\n",
              "    <tr>\n",
              "      <th>0</th>\n",
              "      <td>2</td>\n",
              "      <td>0.002515</td>\n",
              "      <td>0.136421</td>\n",
              "      <td>Ground out of 2</td>\n",
              "      <td>Super Area</td>\n",
              "      <td>Bandel</td>\n",
              "      <td>Kolkata</td>\n",
              "      <td>Unfurnished</td>\n",
              "      <td>Bachelors/Family</td>\n",
              "      <td>2</td>\n",
              "      <td>Contact Owner</td>\n",
              "    </tr>\n",
              "    <tr>\n",
              "      <th>1</th>\n",
              "      <td>2</td>\n",
              "      <td>0.005373</td>\n",
              "      <td>0.098874</td>\n",
              "      <td>1 out of 3</td>\n",
              "      <td>Super Area</td>\n",
              "      <td>Phool Bagan, Kankurgachi</td>\n",
              "      <td>Kolkata</td>\n",
              "      <td>Semi-Furnished</td>\n",
              "      <td>Bachelors/Family</td>\n",
              "      <td>1</td>\n",
              "      <td>Contact Owner</td>\n",
              "    </tr>\n",
              "    <tr>\n",
              "      <th>2</th>\n",
              "      <td>2</td>\n",
              "      <td>0.004516</td>\n",
              "      <td>0.123905</td>\n",
              "      <td>1 out of 3</td>\n",
              "      <td>Super Area</td>\n",
              "      <td>Salt Lake City Sector 2</td>\n",
              "      <td>Kolkata</td>\n",
              "      <td>Semi-Furnished</td>\n",
              "      <td>Bachelors/Family</td>\n",
              "      <td>1</td>\n",
              "      <td>Contact Owner</td>\n",
              "    </tr>\n",
              "    <tr>\n",
              "      <th>3</th>\n",
              "      <td>2</td>\n",
              "      <td>0.002515</td>\n",
              "      <td>0.098874</td>\n",
              "      <td>1 out of 2</td>\n",
              "      <td>Super Area</td>\n",
              "      <td>Dumdum Park</td>\n",
              "      <td>Kolkata</td>\n",
              "      <td>Unfurnished</td>\n",
              "      <td>Bachelors/Family</td>\n",
              "      <td>1</td>\n",
              "      <td>Contact Owner</td>\n",
              "    </tr>\n",
              "    <tr>\n",
              "      <th>4</th>\n",
              "      <td>2</td>\n",
              "      <td>0.001801</td>\n",
              "      <td>0.105131</td>\n",
              "      <td>1 out of 2</td>\n",
              "      <td>Carpet Area</td>\n",
              "      <td>South Dum Dum</td>\n",
              "      <td>Kolkata</td>\n",
              "      <td>Unfurnished</td>\n",
              "      <td>Bachelors</td>\n",
              "      <td>1</td>\n",
              "      <td>Contact Owner</td>\n",
              "    </tr>\n",
              "  </tbody>\n",
              "</table>\n",
              "</div>\n",
              "      <button class=\"colab-df-convert\" onclick=\"convertToInteractive('df-e6e7daf4-ee12-4a4c-af5a-9d54db7f555a')\"\n",
              "              title=\"Convert this dataframe to an interactive table.\"\n",
              "              style=\"display:none;\">\n",
              "        \n",
              "  <svg xmlns=\"http://www.w3.org/2000/svg\" height=\"24px\"viewBox=\"0 0 24 24\"\n",
              "       width=\"24px\">\n",
              "    <path d=\"M0 0h24v24H0V0z\" fill=\"none\"/>\n",
              "    <path d=\"M18.56 5.44l.94 2.06.94-2.06 2.06-.94-2.06-.94-.94-2.06-.94 2.06-2.06.94zm-11 1L8.5 8.5l.94-2.06 2.06-.94-2.06-.94L8.5 2.5l-.94 2.06-2.06.94zm10 10l.94 2.06.94-2.06 2.06-.94-2.06-.94-.94-2.06-.94 2.06-2.06.94z\"/><path d=\"M17.41 7.96l-1.37-1.37c-.4-.4-.92-.59-1.43-.59-.52 0-1.04.2-1.43.59L10.3 9.45l-7.72 7.72c-.78.78-.78 2.05 0 2.83L4 21.41c.39.39.9.59 1.41.59.51 0 1.02-.2 1.41-.59l7.78-7.78 2.81-2.81c.8-.78.8-2.07 0-2.86zM5.41 20L4 18.59l7.72-7.72 1.47 1.35L5.41 20z\"/>\n",
              "  </svg>\n",
              "      </button>\n",
              "      \n",
              "  <style>\n",
              "    .colab-df-container {\n",
              "      display:flex;\n",
              "      flex-wrap:wrap;\n",
              "      gap: 12px;\n",
              "    }\n",
              "\n",
              "    .colab-df-convert {\n",
              "      background-color: #E8F0FE;\n",
              "      border: none;\n",
              "      border-radius: 50%;\n",
              "      cursor: pointer;\n",
              "      display: none;\n",
              "      fill: #1967D2;\n",
              "      height: 32px;\n",
              "      padding: 0 0 0 0;\n",
              "      width: 32px;\n",
              "    }\n",
              "\n",
              "    .colab-df-convert:hover {\n",
              "      background-color: #E2EBFA;\n",
              "      box-shadow: 0px 1px 2px rgba(60, 64, 67, 0.3), 0px 1px 3px 1px rgba(60, 64, 67, 0.15);\n",
              "      fill: #174EA6;\n",
              "    }\n",
              "\n",
              "    [theme=dark] .colab-df-convert {\n",
              "      background-color: #3B4455;\n",
              "      fill: #D2E3FC;\n",
              "    }\n",
              "\n",
              "    [theme=dark] .colab-df-convert:hover {\n",
              "      background-color: #434B5C;\n",
              "      box-shadow: 0px 1px 3px 1px rgba(0, 0, 0, 0.15);\n",
              "      filter: drop-shadow(0px 1px 2px rgba(0, 0, 0, 0.3));\n",
              "      fill: #FFFFFF;\n",
              "    }\n",
              "  </style>\n",
              "\n",
              "      <script>\n",
              "        const buttonEl =\n",
              "          document.querySelector('#df-e6e7daf4-ee12-4a4c-af5a-9d54db7f555a button.colab-df-convert');\n",
              "        buttonEl.style.display =\n",
              "          google.colab.kernel.accessAllowed ? 'block' : 'none';\n",
              "\n",
              "        async function convertToInteractive(key) {\n",
              "          const element = document.querySelector('#df-e6e7daf4-ee12-4a4c-af5a-9d54db7f555a');\n",
              "          const dataTable =\n",
              "            await google.colab.kernel.invokeFunction('convertToInteractive',\n",
              "                                                     [key], {});\n",
              "          if (!dataTable) return;\n",
              "\n",
              "          const docLinkHtml = 'Like what you see? Visit the ' +\n",
              "            '<a target=\"_blank\" href=https://colab.research.google.com/notebooks/data_table.ipynb>data table notebook</a>'\n",
              "            + ' to learn more about interactive tables.';\n",
              "          element.innerHTML = '';\n",
              "          dataTable['output_type'] = 'display_data';\n",
              "          await google.colab.output.renderOutput(dataTable, element);\n",
              "          const docLink = document.createElement('div');\n",
              "          docLink.innerHTML = docLinkHtml;\n",
              "          element.appendChild(docLink);\n",
              "        }\n",
              "      </script>\n",
              "    </div>\n",
              "  </div>\n",
              "  "
            ]
          },
          "metadata": {},
          "execution_count": 63
        }
      ],
      "source": [
        "# Rescaling real- valued numeric attributes into a 0 to 1 range.\n",
        "from sklearn.preprocessing import MinMaxScaler\n",
        "mms = MinMaxScaler()\n",
        "data['Rent'] = mms.fit_transform(data[['Rent']])\n",
        "data['Size'] = mms.fit_transform(data[['Size']])\n",
        "data.head()"
      ]
    },
    {
      "cell_type": "markdown",
      "id": "24ad22de",
      "metadata": {
        "id": "24ad22de"
      },
      "source": [
        "### Checking correlation between the independent columns"
      ]
    },
    {
      "cell_type": "code",
      "execution_count": null,
      "id": "d5e63253",
      "metadata": {
        "colab": {
          "base_uri": "https://localhost:8080/",
          "height": 287
        },
        "id": "d5e63253",
        "outputId": "e6f67973-75fb-4264-8953-45d4e242c0e8"
      },
      "outputs": [
        {
          "output_type": "execute_result",
          "data": {
            "text/plain": [
              "<matplotlib.axes._subplots.AxesSubplot at 0x7f18e4644d90>"
            ]
          },
          "metadata": {},
          "execution_count": 64
        },
        {
          "output_type": "display_data",
          "data": {
            "text/plain": [
              "<Figure size 432x288 with 2 Axes>"
            ],
            "image/png": "[encoded data removed]"
          },
          "metadata": {
            "needs_background": "light"
          }
        }
      ],
      "source": [
        "cor = data.corr()\n",
        "sns.heatmap(cor,annot=True)"
      ]
    },
    {
      "cell_type": "code",
      "execution_count": null,
      "id": "1f6c4f7f",
      "metadata": {
        "id": "1f6c4f7f"
      },
      "outputs": [],
      "source": [
        "# BHK and Bathroom columns are highly correlated to each other\n",
        "# BHK and Size columns are highly correlated to each other\n",
        "# Size and Bathroom columns are highly correlated to each other"
      ]
    },
    {
      "cell_type": "code",
      "execution_count": null,
      "id": "e480abd8",
      "metadata": {
        "id": "e480abd8"
      },
      "outputs": [],
      "source": [
        "# Dropping BHK and Size column to eliminate correlation\n",
        "data.drop(['BHK','Size'],axis=1,inplace=True)"
      ]
    },
    {
      "cell_type": "markdown",
      "id": "bac95b3a",
      "metadata": {
        "id": "bac95b3a"
      },
      "source": [
        "### Changing Categorical column to numerical column"
      ]
    },
    {
      "cell_type": "code",
      "execution_count": null,
      "id": "e6dff87d",
      "metadata": {
        "colab": {
          "base_uri": "https://localhost:8080/",
          "height": 263
        },
        "id": "e6dff87d",
        "outputId": "e364ac83-a712-44d0-b19f-964fff1e4f40"
      },
      "outputs": [
        {
          "output_type": "stream",
          "name": "stderr",
          "text": [
            "/usr/local/lib/python3.8/dist-packages/sklearn/preprocessing/_label.py:115: DataConversionWarning: A column-vector y was passed when a 1d array was expected. Please change the shape of y to (n_samples, ), for example using ravel().\n",
            "  y = column_or_1d(y, warn=True)\n"
          ]
        },
        {
          "output_type": "execute_result",
          "data": {
            "text/plain": [
              "       Rent            Floor  Area Type             Area Locality     City  \\\n",
              "0  0.002515  Ground out of 2          2                    Bandel  Kolkata   \n",
              "1  0.005373       1 out of 3          2  Phool Bagan, Kankurgachi  Kolkata   \n",
              "2  0.004516       1 out of 3          2   Salt Lake City Sector 2  Kolkata   \n",
              "3  0.002515       1 out of 2          2               Dumdum Park  Kolkata   \n",
              "4  0.001801       1 out of 2          1             South Dum Dum  Kolkata   \n",
              "\n",
              "   Furnishing Status  Tenant Preferred  Bathroom Point of Contact  \n",
              "0                  2  Bachelors/Family         2    Contact Owner  \n",
              "1                  1  Bachelors/Family         1    Contact Owner  \n",
              "2                  1  Bachelors/Family         1    Contact Owner  \n",
              "3                  2  Bachelors/Family         1    Contact Owner  \n",
              "4                  2         Bachelors         1    Contact Owner  "
            ],
            "text/html": [
              "\n",
              "  <div id=\"df-64e7fd1e-cd6c-43a5-be8f-ad00694846d1\">\n",
              "    <div class=\"colab-df-container\">\n",
              "      <div>\n",
              "<style scoped>\n",
              "    .dataframe tbody tr th:only-of-type {\n",
              "        vertical-align: middle;\n",
              "    }\n",
              "\n",
              "    .dataframe tbody tr th {\n",
              "        vertical-align: top;\n",
              "    }\n",
              "\n",
              "    .dataframe thead th {\n",
              "        text-align: right;\n",
              "    }\n",
              "</style>\n",
              "<table border=\"1\" class=\"dataframe\">\n",
              "  <thead>\n",
              "    <tr style=\"text-align: right;\">\n",
              "      <th></th>\n",
              "      <th>Rent</th>\n",
              "      <th>Floor</th>\n",
              "      <th>Area Type</th>\n",
              "      <th>Area Locality</th>\n",
              "      <th>City</th>\n",
              "      <th>Furnishing Status</th>\n",
              "      <th>Tenant Preferred</th>\n",
              "      <th>Bathroom</th>\n",
              "      <th>Point of Contact</th>\n",
              "    </tr>\n",
              "  </thead>\n",
              "  <tbody>\n",
              "    <tr>\n",
              "      <th>0</th>\n",
              "      <td>0.002515</td>\n",
              "      <td>Ground out of 2</td>\n",
              "      <td>2</td>\n",
              "      <td>Bandel</td>\n",
              "      <td>Kolkata</td>\n",
              "      <td>2</td>\n",
              "      <td>Bachelors/Family</td>\n",
              "      <td>2</td>\n",
              "      <td>Contact Owner</td>\n",
              "    </tr>\n",
              "    <tr>\n",
              "      <th>1</th>\n",
              "      <td>0.005373</td>\n",
              "      <td>1 out of 3</td>\n",
              "      <td>2</td>\n",
              "      <td>Phool Bagan, Kankurgachi</td>\n",
              "      <td>Kolkata</td>\n",
              "      <td>1</td>\n",
              "      <td>Bachelors/Family</td>\n",
              "      <td>1</td>\n",
              "      <td>Contact Owner</td>\n",
              "    </tr>\n",
              "    <tr>\n",
              "      <th>2</th>\n",
              "      <td>0.004516</td>\n",
              "      <td>1 out of 3</td>\n",
              "      <td>2</td>\n",
              "      <td>Salt Lake City Sector 2</td>\n",
              "      <td>Kolkata</td>\n",
              "      <td>1</td>\n",
              "      <td>Bachelors/Family</td>\n",
              "      <td>1</td>\n",
              "      <td>Contact Owner</td>\n",
              "    </tr>\n",
              "    <tr>\n",
              "      <th>3</th>\n",
              "      <td>0.002515</td>\n",
              "      <td>1 out of 2</td>\n",
              "      <td>2</td>\n",
              "      <td>Dumdum Park</td>\n",
              "      <td>Kolkata</td>\n",
              "      <td>2</td>\n",
              "      <td>Bachelors/Family</td>\n",
              "      <td>1</td>\n",
              "      <td>Contact Owner</td>\n",
              "    </tr>\n",
              "    <tr>\n",
              "      <th>4</th>\n",
              "      <td>0.001801</td>\n",
              "      <td>1 out of 2</td>\n",
              "      <td>1</td>\n",
              "      <td>South Dum Dum</td>\n",
              "      <td>Kolkata</td>\n",
              "      <td>2</td>\n",
              "      <td>Bachelors</td>\n",
              "      <td>1</td>\n",
              "      <td>Contact Owner</td>\n",
              "    </tr>\n",
              "  </tbody>\n",
              "</table>\n",
              "</div>\n",
              "      <button class=\"colab-df-convert\" onclick=\"convertToInteractive('df-64e7fd1e-cd6c-43a5-be8f-ad00694846d1')\"\n",
              "              title=\"Convert this dataframe to an interactive table.\"\n",
              "              style=\"display:none;\">\n",
              "        \n",
              "  <svg xmlns=\"http://www.w3.org/2000/svg\" height=\"24px\"viewBox=\"0 0 24 24\"\n",
              "       width=\"24px\">\n",
              "    <path d=\"M0 0h24v24H0V0z\" fill=\"none\"/>\n",
              "    <path d=\"M18.56 5.44l.94 2.06.94-2.06 2.06-.94-2.06-.94-.94-2.06-.94 2.06-2.06.94zm-11 1L8.5 8.5l.94-2.06 2.06-.94-2.06-.94L8.5 2.5l-.94 2.06-2.06.94zm10 10l.94 2.06.94-2.06 2.06-.94-2.06-.94-.94-2.06-.94 2.06-2.06.94z\"/><path d=\"M17.41 7.96l-1.37-1.37c-.4-.4-.92-.59-1.43-.59-.52 0-1.04.2-1.43.59L10.3 9.45l-7.72 7.72c-.78.78-.78 2.05 0 2.83L4 21.41c.39.39.9.59 1.41.59.51 0 1.02-.2 1.41-.59l7.78-7.78 2.81-2.81c.8-.78.8-2.07 0-2.86zM5.41 20L4 18.59l7.72-7.72 1.47 1.35L5.41 20z\"/>\n",
              "  </svg>\n",
              "      </button>\n",
              "      \n",
              "  <style>\n",
              "    .colab-df-container {\n",
              "      display:flex;\n",
              "      flex-wrap:wrap;\n",
              "      gap: 12px;\n",
              "    }\n",
              "\n",
              "    .colab-df-convert {\n",
              "      background-color: #E8F0FE;\n",
              "      border: none;\n",
              "      border-radius: 50%;\n",
              "      cursor: pointer;\n",
              "      display: none;\n",
              "      fill: #1967D2;\n",
              "      height: 32px;\n",
              "      padding: 0 0 0 0;\n",
              "      width: 32px;\n",
              "    }\n",
              "\n",
              "    .colab-df-convert:hover {\n",
              "      background-color: #E2EBFA;\n",
              "      box-shadow: 0px 1px 2px rgba(60, 64, 67, 0.3), 0px 1px 3px 1px rgba(60, 64, 67, 0.15);\n",
              "      fill: #174EA6;\n",
              "    }\n",
              "\n",
              "    [theme=dark] .colab-df-convert {\n",
              "      background-color: #3B4455;\n",
              "      fill: #D2E3FC;\n",
              "    }\n",
              "\n",
              "    [theme=dark] .colab-df-convert:hover {\n",
              "      background-color: #434B5C;\n",
              "      box-shadow: 0px 1px 3px 1px rgba(0, 0, 0, 0.15);\n",
              "      filter: drop-shadow(0px 1px 2px rgba(0, 0, 0, 0.3));\n",
              "      fill: #FFFFFF;\n",
              "    }\n",
              "  </style>\n",
              "\n",
              "      <script>\n",
              "        const buttonEl =\n",
              "          document.querySelector('#df-64e7fd1e-cd6c-43a5-be8f-ad00694846d1 button.colab-df-convert');\n",
              "        buttonEl.style.display =\n",
              "          google.colab.kernel.accessAllowed ? 'block' : 'none';\n",
              "\n",
              "        async function convertToInteractive(key) {\n",
              "          const element = document.querySelector('#df-64e7fd1e-cd6c-43a5-be8f-ad00694846d1');\n",
              "          const dataTable =\n",
              "            await google.colab.kernel.invokeFunction('convertToInteractive',\n",
              "                                                     [key], {});\n",
              "          if (!dataTable) return;\n",
              "\n",
              "          const docLinkHtml = 'Like what you see? Visit the ' +\n",
              "            '<a target=\"_blank\" href=https://colab.research.google.com/notebooks/data_table.ipynb>data table notebook</a>'\n",
              "            + ' to learn more about interactive tables.';\n",
              "          element.innerHTML = '';\n",
              "          dataTable['output_type'] = 'display_data';\n",
              "          await google.colab.output.renderOutput(dataTable, element);\n",
              "          const docLink = document.createElement('div');\n",
              "          docLink.innerHTML = docLinkHtml;\n",
              "          element.appendChild(docLink);\n",
              "        }\n",
              "      </script>\n",
              "    </div>\n",
              "  </div>\n",
              "  "
            ]
          },
          "metadata": {},
          "execution_count": 67
        }
      ],
      "source": [
        "from sklearn.preprocessing import LabelEncoder\n",
        "le = LabelEncoder()\n",
        "data['Area Type'] = le.fit_transform(data[['Area Type']])\n",
        "data['Furnishing Status'] = le.fit_transform(data[['Furnishing Status']])\n",
        "data.head()"
      ]
    },
    {
      "cell_type": "code",
      "execution_count": null,
      "id": "c5f03456",
      "metadata": {
        "id": "c5f03456"
      },
      "outputs": [],
      "source": [
        "data1 = pd.get_dummies(data['Floor'],drop_first=True)\n",
        "data2 = pd.get_dummies(data['Area Locality'],drop_first=True)\n",
        "data3 = pd.get_dummies(data['City'],drop_first=True)\n",
        "data4 = pd.get_dummies(data['Tenant Preferred'],drop_first=True)\n",
        "data5 = pd.get_dummies(data['Point of Contact'],drop_first=True)"
      ]
    },
    {
      "cell_type": "code",
      "execution_count": null,
      "id": "f0c15ad3",
      "metadata": {
        "id": "f0c15ad3"
      },
      "outputs": [],
      "source": [
        "data.drop(['Floor','Area Locality','City','Tenant Preferred','Point of Contact'],axis=1,inplace=True)"
      ]
    },
    {
      "cell_type": "code",
      "execution_count": null,
      "id": "e1b789fd",
      "metadata": {
        "colab": {
          "base_uri": "https://localhost:8080/",
          "height": 351
        },
        "id": "e1b789fd",
        "outputId": "0f908501-c453-4f0a-a616-b5c45be1d097"
      },
      "outputs": [
        {
          "output_type": "execute_result",
          "data": {
            "text/plain": [
              "       Rent  Area Type  Furnishing Status  Bathroom  1 out of 1  1 out of 10  \\\n",
              "0  0.002515          2                  2         2           0            0   \n",
              "1  0.005373          2                  1         1           0            0   \n",
              "2  0.004516          2                  1         1           0            0   \n",
              "3  0.002515          2                  2         1           0            0   \n",
              "4  0.001801          1                  2         1           0            0   \n",
              "\n",
              "   1 out of 11  1 out of 12  1 out of 13  1 out of 14  ...  whitefield  \\\n",
              "0            0            0            0            0  ...           0   \n",
              "1            0            0            0            0  ...           0   \n",
              "2            0            0            0            0  ...           0   \n",
              "3            0            0            0            0  ...           0   \n",
              "4            0            0            0            0  ...           0   \n",
              "\n",
              "   Chennai  Delhi  Hyderabad  Kolkata  Mumbai  Bachelors/Family  Family  \\\n",
              "0        0      0          0        1       0                 1       0   \n",
              "1        0      0          0        1       0                 1       0   \n",
              "2        0      0          0        1       0                 1       0   \n",
              "3        0      0          0        1       0                 1       0   \n",
              "4        0      0          0        1       0                 0       0   \n",
              "\n",
              "   Contact Builder  Contact Owner  \n",
              "0                0              1  \n",
              "1                0              1  \n",
              "2                0              1  \n",
              "3                0              1  \n",
              "4                0              1  \n",
              "\n",
              "[5 rows x 2726 columns]"
            ],
            "text/html": [
              "\n",
              "  <div id=\"df-9b21cbd4-a520-4489-8cd8-f69eb324a9b3\">\n",
              "    <div class=\"colab-df-container\">\n",
              "      <div>\n",
              "<style scoped>\n",
              "    .dataframe tbody tr th:only-of-type {\n",
              "        vertical-align: middle;\n",
              "    }\n",
              "\n",
              "    .dataframe tbody tr th {\n",
              "        vertical-align: top;\n",
              "    }\n",
              "\n",
              "    .dataframe thead th {\n",
              "        text-align: right;\n",
              "    }\n",
              "</style>\n",
              "<table border=\"1\" class=\"dataframe\">\n",
              "  <thead>\n",
              "    <tr style=\"text-align: right;\">\n",
              "      <th></th>\n",
              "      <th>Rent</th>\n",
              "      <th>Area Type</th>\n",
              "      <th>Furnishing Status</th>\n",
              "      <th>Bathroom</th>\n",
              "      <th>1 out of 1</th>\n",
              "      <th>1 out of 10</th>\n",
              "      <th>1 out of 11</th>\n",
              "      <th>1 out of 12</th>\n",
              "      <th>1 out of 13</th>\n",
              "      <th>1 out of 14</th>\n",
              "      <th>...</th>\n",
              "      <th>whitefield</th>\n",
              "      <th>Chennai</th>\n",
              "      <th>Delhi</th>\n",
              "      <th>Hyderabad</th>\n",
              "      <th>Kolkata</th>\n",
              "      <th>Mumbai</th>\n",
              "      <th>Bachelors/Family</th>\n",
              "      <th>Family</th>\n",
              "      <th>Contact Builder</th>\n",
              "      <th>Contact Owner</th>\n",
              "    </tr>\n",
              "  </thead>\n",
              "  <tbody>\n",
              "    <tr>\n",
              "      <th>0</th>\n",
              "      <td>0.002515</td>\n",
              "      <td>2</td>\n",
              "      <td>2</td>\n",
              "      <td>2</td>\n",
              "      <td>0</td>\n",
              "      <td>0</td>\n",
              "      <td>0</td>\n",
              "      <td>0</td>\n",
              "      <td>0</td>\n",
              "      <td>0</td>\n",
              "      <td>...</td>\n",
              "      <td>0</td>\n",
              "      <td>0</td>\n",
              "      <td>0</td>\n",
              "      <td>0</td>\n",
              "      <td>1</td>\n",
              "      <td>0</td>\n",
              "      <td>1</td>\n",
              "      <td>0</td>\n",
              "      <td>0</td>\n",
              "      <td>1</td>\n",
              "    </tr>\n",
              "    <tr>\n",
              "      <th>1</th>\n",
              "      <td>0.005373</td>\n",
              "      <td>2</td>\n",
              "      <td>1</td>\n",
              "      <td>1</td>\n",
              "      <td>0</td>\n",
              "      <td>0</td>\n",
              "      <td>0</td>\n",
              "      <td>0</td>\n",
              "      <td>0</td>\n",
              "      <td>0</td>\n",
              "      <td>...</td>\n",
              "      <td>0</td>\n",
              "      <td>0</td>\n",
              "      <td>0</td>\n",
              "      <td>0</td>\n",
              "      <td>1</td>\n",
              "      <td>0</td>\n",
              "      <td>1</td>\n",
              "      <td>0</td>\n",
              "      <td>0</td>\n",
              "      <td>1</td>\n",
              "    </tr>\n",
              "    <tr>\n",
              "      <th>2</th>\n",
              "      <td>0.004516</td>\n",
              "      <td>2</td>\n",
              "      <td>1</td>\n",
              "      <td>1</td>\n",
              "      <td>0</td>\n",
              "      <td>0</td>\n",
              "      <td>0</td>\n",
              "      <td>0</td>\n",
              "      <td>0</td>\n",
              "      <td>0</td>\n",
              "      <td>...</td>\n",
              "      <td>0</td>\n",
              "      <td>0</td>\n",
              "      <td>0</td>\n",
              "      <td>0</td>\n",
              "      <td>1</td>\n",
              "      <td>0</td>\n",
              "      <td>1</td>\n",
              "      <td>0</td>\n",
              "      <td>0</td>\n",
              "      <td>1</td>\n",
              "    </tr>\n",
              "    <tr>\n",
              "      <th>3</th>\n",
              "      <td>0.002515</td>\n",
              "      <td>2</td>\n",
              "      <td>2</td>\n",
              "      <td>1</td>\n",
              "      <td>0</td>\n",
              "      <td>0</td>\n",
              "      <td>0</td>\n",
              "      <td>0</td>\n",
              "      <td>0</td>\n",
              "      <td>0</td>\n",
              "      <td>...</td>\n",
              "      <td>0</td>\n",
              "      <td>0</td>\n",
              "      <td>0</td>\n",
              "      <td>0</td>\n",
              "      <td>1</td>\n",
              "      <td>0</td>\n",
              "      <td>1</td>\n",
              "      <td>0</td>\n",
              "      <td>0</td>\n",
              "      <td>1</td>\n",
              "    </tr>\n",
              "    <tr>\n",
              "      <th>4</th>\n",
              "      <td>0.001801</td>\n",
              "      <td>1</td>\n",
              "      <td>2</td>\n",
              "      <td>1</td>\n",
              "      <td>0</td>\n",
              "      <td>0</td>\n",
              "      <td>0</td>\n",
              "      <td>0</td>\n",
              "      <td>0</td>\n",
              "      <td>0</td>\n",
              "      <td>...</td>\n",
              "      <td>0</td>\n",
              "      <td>0</td>\n",
              "      <td>0</td>\n",
              "      <td>0</td>\n",
              "      <td>1</td>\n",
              "      <td>0</td>\n",
              "      <td>0</td>\n",
              "      <td>0</td>\n",
              "      <td>0</td>\n",
              "      <td>1</td>\n",
              "    </tr>\n",
              "  </tbody>\n",
              "</table>\n",
              "<p>5 rows × 2726 columns</p>\n",
              "</div>\n",
              "      <button class=\"colab-df-convert\" onclick=\"convertToInteractive('df-9b21cbd4-a520-4489-8cd8-f69eb324a9b3')\"\n",
              "              title=\"Convert this dataframe to an interactive table.\"\n",
              "              style=\"display:none;\">\n",
              "        \n",
              "  <svg xmlns=\"http://www.w3.org/2000/svg\" height=\"24px\"viewBox=\"0 0 24 24\"\n",
              "       width=\"24px\">\n",
              "    <path d=\"M0 0h24v24H0V0z\" fill=\"none\"/>\n",
              "    <path d=\"M18.56 5.44l.94 2.06.94-2.06 2.06-.94-2.06-.94-.94-2.06-.94 2.06-2.06.94zm-11 1L8.5 8.5l.94-2.06 2.06-.94-2.06-.94L8.5 2.5l-.94 2.06-2.06.94zm10 10l.94 2.06.94-2.06 2.06-.94-2.06-.94-.94-2.06-.94 2.06-2.06.94z\"/><path d=\"M17.41 7.96l-1.37-1.37c-.4-.4-.92-.59-1.43-.59-.52 0-1.04.2-1.43.59L10.3 9.45l-7.72 7.72c-.78.78-.78 2.05 0 2.83L4 21.41c.39.39.9.59 1.41.59.51 0 1.02-.2 1.41-.59l7.78-7.78 2.81-2.81c.8-.78.8-2.07 0-2.86zM5.41 20L4 18.59l7.72-7.72 1.47 1.35L5.41 20z\"/>\n",
              "  </svg>\n",
              "      </button>\n",
              "      \n",
              "  <style>\n",
              "    .colab-df-container {\n",
              "      display:flex;\n",
              "      flex-wrap:wrap;\n",
              "      gap: 12px;\n",
              "    }\n",
              "\n",
              "    .colab-df-convert {\n",
              "      background-color: #E8F0FE;\n",
              "      border: none;\n",
              "      border-radius: 50%;\n",
              "      cursor: pointer;\n",
              "      display: none;\n",
              "      fill: #1967D2;\n",
              "      height: 32px;\n",
              "      padding: 0 0 0 0;\n",
              "      width: 32px;\n",
              "    }\n",
              "\n",
              "    .colab-df-convert:hover {\n",
              "      background-color: #E2EBFA;\n",
              "      box-shadow: 0px 1px 2px rgba(60, 64, 67, 0.3), 0px 1px 3px 1px rgba(60, 64, 67, 0.15);\n",
              "      fill: #174EA6;\n",
              "    }\n",
              "\n",
              "    [theme=dark] .colab-df-convert {\n",
              "      background-color: #3B4455;\n",
              "      fill: #D2E3FC;\n",
              "    }\n",
              "\n",
              "    [theme=dark] .colab-df-convert:hover {\n",
              "      background-color: #434B5C;\n",
              "      box-shadow: 0px 1px 3px 1px rgba(0, 0, 0, 0.15);\n",
              "      filter: drop-shadow(0px 1px 2px rgba(0, 0, 0, 0.3));\n",
              "      fill: #FFFFFF;\n",
              "    }\n",
              "  </style>\n",
              "\n",
              "      <script>\n",
              "        const buttonEl =\n",
              "          document.querySelector('#df-9b21cbd4-a520-4489-8cd8-f69eb324a9b3 button.colab-df-convert');\n",
              "        buttonEl.style.display =\n",
              "          google.colab.kernel.accessAllowed ? 'block' : 'none';\n",
              "\n",
              "        async function convertToInteractive(key) {\n",
              "          const element = document.querySelector('#df-9b21cbd4-a520-4489-8cd8-f69eb324a9b3');\n",
              "          const dataTable =\n",
              "            await google.colab.kernel.invokeFunction('convertToInteractive',\n",
              "                                                     [key], {});\n",
              "          if (!dataTable) return;\n",
              "\n",
              "          const docLinkHtml = 'Like what you see? Visit the ' +\n",
              "            '<a target=\"_blank\" href=https://colab.research.google.com/notebooks/data_table.ipynb>data table notebook</a>'\n",
              "            + ' to learn more about interactive tables.';\n",
              "          element.innerHTML = '';\n",
              "          dataTable['output_type'] = 'display_data';\n",
              "          await google.colab.output.renderOutput(dataTable, element);\n",
              "          const docLink = document.createElement('div');\n",
              "          docLink.innerHTML = docLinkHtml;\n",
              "          element.appendChild(docLink);\n",
              "        }\n",
              "      </script>\n",
              "    </div>\n",
              "  </div>\n",
              "  "
            ]
          },
          "metadata": {},
          "execution_count": 70
        }
      ],
      "source": [
        "data = pd.concat([data,data1,data2,data3,data4,data5],axis=1)\n",
        "data.head()"
      ]
    },
    {
      "cell_type": "code",
      "execution_count": null,
      "id": "3f741979",
      "metadata": {
        "id": "3f741979"
      },
      "outputs": [],
      "source": [
        "x = data.drop('Rent',axis=1)\n",
        "y = data.iloc[:,1]"
      ]
    },
    {
      "cell_type": "markdown",
      "id": "74e03f8c",
      "metadata": {
        "id": "74e03f8c"
      },
      "source": [
        "### Applying Principal Component Analysis to decrese the number of columns"
      ]
    },
    {
      "cell_type": "code",
      "execution_count": null,
      "id": "4371cc2c",
      "metadata": {
        "id": "4371cc2c"
      },
      "outputs": [],
      "source": [
        "from sklearn.decomposition import PCA\n",
        "pca = PCA(n_components=7)\n",
        "x = pca.fit_transform(x)"
      ]
    },
    {
      "cell_type": "markdown",
      "id": "d90a134b",
      "metadata": {
        "id": "d90a134b"
      },
      "source": [
        "## Model creation"
      ]
    },
    {
      "cell_type": "markdown",
      "id": "44df50c5",
      "metadata": {
        "id": "44df50c5"
      },
      "source": [
        "### Splitting the dataset into train and test dataset"
      ]
    },
    {
      "cell_type": "code",
      "execution_count": null,
      "id": "9b493e67",
      "metadata": {
        "id": "9b493e67"
      },
      "outputs": [],
      "source": [
        "from sklearn.model_selection import train_test_split\n",
        "x_train,x_test,y_train,y_test = train_test_split(x,y,test_size=0.25,random_state=0)"
      ]
    },
    {
      "cell_type": "markdown",
      "id": "6dd75e22",
      "metadata": {
        "id": "6dd75e22"
      },
      "source": [
        "### Linear Regression Model"
      ]
    },
    {
      "cell_type": "code",
      "execution_count": null,
      "id": "cec7fa96",
      "metadata": {
        "colab": {
          "base_uri": "https://localhost:8080/"
        },
        "id": "cec7fa96",
        "outputId": "a1bc24a3-3f43-4700-efd1-d1472094f137"
      },
      "outputs": [
        {
          "output_type": "execute_result",
          "data": {
            "text/plain": [
              "LinearRegression()"
            ]
          },
          "metadata": {},
          "execution_count": 74
        }
      ],
      "source": [
        "from sklearn.linear_model import LinearRegression\n",
        "lr = LinearRegression()\n",
        "lr.fit(x_train,y_train)"
      ]
    },
    {
      "cell_type": "code",
      "execution_count": null,
      "id": "76333571",
      "metadata": {
        "id": "76333571"
      },
      "outputs": [],
      "source": [
        "y_pred = lr.predict(x_test)"
      ]
    },
    {
      "cell_type": "code",
      "execution_count": null,
      "id": "ee032218",
      "metadata": {
        "colab": {
          "base_uri": "https://localhost:8080/"
        },
        "id": "ee032218",
        "outputId": "fcabef05-87cf-4f53-c278-63a21c2d9ebb"
      },
      "outputs": [
        {
          "output_type": "execute_result",
          "data": {
            "text/plain": [
              "0.8724247580647888"
            ]
          },
          "metadata": {},
          "execution_count": 76
        }
      ],
      "source": [
        "from sklearn.metrics import r2_score\n",
        "r2_score(y_pred,y_test)"
      ]
    },
    {
      "cell_type": "markdown",
      "id": "654cb7b6",
      "metadata": {
        "id": "654cb7b6"
      },
      "source": [
        "### Decision Tree Regressor Model"
      ]
    },
    {
      "cell_type": "code",
      "execution_count": null,
      "id": "da1466dd",
      "metadata": {
        "colab": {
          "base_uri": "https://localhost:8080/"
        },
        "id": "da1466dd",
        "outputId": "beb8d3af-f7d8-4726-d3b6-0a8b5bbe95d1"
      },
      "outputs": [
        {
          "output_type": "execute_result",
          "data": {
            "text/plain": [
              "DecisionTreeRegressor()"
            ]
          },
          "metadata": {},
          "execution_count": 77
        }
      ],
      "source": [
        "from sklearn.tree import DecisionTreeRegressor\n",
        "dtr = DecisionTreeRegressor()\n",
        "dtr.fit(x_train,y_train)"
      ]
    },
    {
      "cell_type": "code",
      "execution_count": null,
      "id": "8e513811",
      "metadata": {
        "id": "8e513811"
      },
      "outputs": [],
      "source": [
        "y_pred = dtr.predict(x_test)"
      ]
    },
    {
      "cell_type": "code",
      "execution_count": null,
      "id": "c116413e",
      "metadata": {
        "colab": {
          "base_uri": "https://localhost:8080/"
        },
        "id": "c116413e",
        "outputId": "a128544d-fe4d-426c-ed5a-c1a253c71a7f"
      },
      "outputs": [
        {
          "output_type": "execute_result",
          "data": {
            "text/plain": [
              "0.9595536246699037"
            ]
          },
          "metadata": {},
          "execution_count": 79
        }
      ],
      "source": [
        "from sklearn.metrics import r2_score\n",
        "r2_score(y_pred,y_test)"
      ]
    },
    {
      "cell_type": "markdown",
      "id": "eaf61804",
      "metadata": {
        "id": "eaf61804"
      },
      "source": [
        "### Random Forest Regressor Model"
      ]
    },
    {
      "cell_type": "code",
      "execution_count": null,
      "id": "e8e40baf",
      "metadata": {
        "colab": {
          "base_uri": "https://localhost:8080/"
        },
        "id": "e8e40baf",
        "outputId": "60416b40-3946-474c-86aa-a90334fe4a9b"
      },
      "outputs": [
        {
          "output_type": "execute_result",
          "data": {
            "text/plain": [
              "RandomForestRegressor()"
            ]
          },
          "metadata": {},
          "execution_count": 80
        }
      ],
      "source": [
        "from sklearn.ensemble import RandomForestRegressor\n",
        "dtr = RandomForestRegressor()\n",
        "dtr.fit(x_train,y_train)"
      ]
    },
    {
      "cell_type": "code",
      "execution_count": null,
      "id": "3019d75a",
      "metadata": {
        "id": "3019d75a"
      },
      "outputs": [],
      "source": [
        "y_pred = dtr.predict(x_test)"
      ]
    },
    {
      "cell_type": "code",
      "execution_count": null,
      "id": "1e2d2402",
      "metadata": {
        "colab": {
          "base_uri": "https://localhost:8080/"
        },
        "id": "1e2d2402",
        "outputId": "2344d4ad-d27a-49e4-d356-dbf42615b4c8"
      },
      "outputs": [
        {
          "output_type": "execute_result",
          "data": {
            "text/plain": [
              "0.9773625947235474"
            ]
          },
          "metadata": {},
          "execution_count": 82
        }
      ],
      "source": [
        "from sklearn.metrics import r2_score\n",
        "r2_score(y_pred,y_test)"
      ]
    }
  ],
  "metadata": {
    "kernelspec": {
      "display_name": "Python 3 (ipykernel)",
      "language": "python",
      "name": "python3"
    },
    "language_info": {
      "codemirror_mode": {
        "name": "ipython",
        "version": 3
      },
      "file_extension": ".py",
      "mimetype": "text/x-python",
      "name": "python",
      "nbconvert_exporter": "python",
      "pygments_lexer": "ipython3",
      "version": "3.9.12"
    },
    "colab": {
      "provenance": []
    }
  },
  "nbformat": 4,
  "nbformat_minor": 5
}